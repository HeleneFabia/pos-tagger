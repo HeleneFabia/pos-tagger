{
 "cells": [
  {
   "cell_type": "markdown",
   "id": "0ef03e42-8062-475f-81ab-2da3b6e1c444",
   "metadata": {},
   "source": [
    "# Training and Evaluating a POS Tagger"
   ]
  },
  {
   "cell_type": "code",
   "execution_count": 1,
   "id": "058a3065-291f-4c5d-9d92-9d4a380df53e",
   "metadata": {},
   "outputs": [],
   "source": [
    "%load_ext autoreload\n",
    "%autoreload 2"
   ]
  },
  {
   "cell_type": "code",
   "execution_count": 434,
   "id": "c6e1e430-e29a-487b-b384-d92c859dc7b0",
   "metadata": {},
   "outputs": [],
   "source": [
    "import pandas as pd\n",
    "import numpy as np\n",
    "import matplotlib.pyplot as plt\n",
    "import regex as re\n",
    "\n",
    "import spacy\n",
    "from keras.preprocessing.text import Tokenizer\n",
    "from keras.preprocessing.sequence import pad_sequences\n",
    "from gensim.models.keyedvectors import load_word2vec_format\n",
    "from gensim.models import Word2Vec, KeyedVectors\n",
    "\n",
    "import torch\n",
    "from torch import nn\n",
    "from torch.utils.data import DataLoader\n",
    "from sklearn.metrics import f1_score, confusion_matrix\n",
    "\n",
    "from training import get_embedding_weights, POSDataset, Model, train_eval\n",
    "from preprocessing import split_text_into_lines, extract_text_and_target, encode_text\n",
    "from analysis import plot_learning_curve, inference_with_metrics, get_analysis_dataframe"
   ]
  },
  {
   "cell_type": "markdown",
   "id": "043954c3-84d9-4a24-843b-08ea1c59a120",
   "metadata": {
    "tags": []
   },
   "source": [
    "## Preprocessing"
   ]
  },
  {
   "cell_type": "markdown",
   "id": "264d47bd-8e38-4875-97c8-ba59a60510d8",
   "metadata": {
    "tags": []
   },
   "source": [
    "### Create dataframe"
   ]
  },
  {
   "cell_type": "code",
   "execution_count": 555,
   "id": "a7411008-a8d5-4b9c-8c93-42d730665053",
   "metadata": {},
   "outputs": [],
   "source": [
    "with open('train.txt') as f:\n",
    "    train_data = f.readlines()\n",
    "with open('test.txt') as f:\n",
    "    test_data = f.readlines()"
   ]
  },
  {
   "cell_type": "code",
   "execution_count": 556,
   "id": "5ae4ce68-b092-4cc6-98c0-cbd4c4028106",
   "metadata": {},
   "outputs": [],
   "source": [
    "# split text into lines\n",
    "\n",
    "train_lines = split_text_into_lines(train_data)\n",
    "test_lines = split_text_into_lines(test_data)"
   ]
  },
  {
   "cell_type": "code",
   "execution_count": 557,
   "id": "f4206188-5993-4819-a857-a9b5a8ea7902",
   "metadata": {},
   "outputs": [],
   "source": [
    "# put extract text and target from lines\n",
    "\n",
    "train_text, train_targets = extract_text_and_target(train_lines)\n",
    "test_text, test_targets = extract_text_and_target(test_lines)"
   ]
  },
  {
   "cell_type": "code",
   "execution_count": 558,
   "id": "7e27adbe-fa21-4b86-addf-a91897cd52fd",
   "metadata": {},
   "outputs": [],
   "source": [
    "train_df = pd.DataFrame(data={\"text\": train_text, \"target\": train_targets, \"stage\": [\"train\" for x in train_text]})\n",
    "test_df = pd.DataFrame(data={\"text\": test_text, \"target\": test_targets, \"stage\": [\"test\" for x in test_text]})"
   ]
  },
  {
   "cell_type": "code",
   "execution_count": 559,
   "id": "c354ae2e-b89a-4bff-87b1-3889921d761e",
   "metadata": {},
   "outputs": [],
   "source": [
    "df = pd.concat([train_df, test_df], axis=0)"
   ]
  },
  {
   "cell_type": "code",
   "execution_count": 560,
   "id": "d039f4c0-c4af-4129-bdd3-fd24f484ad54",
   "metadata": {},
   "outputs": [
    {
     "data": {
      "text/html": [
       "<div>\n",
       "<style scoped>\n",
       "    .dataframe tbody tr th:only-of-type {\n",
       "        vertical-align: middle;\n",
       "    }\n",
       "\n",
       "    .dataframe tbody tr th {\n",
       "        vertical-align: top;\n",
       "    }\n",
       "\n",
       "    .dataframe thead th {\n",
       "        text-align: right;\n",
       "    }\n",
       "</style>\n",
       "<table border=\"1\" class=\"dataframe\">\n",
       "  <thead>\n",
       "    <tr style=\"text-align: right;\">\n",
       "      <th></th>\n",
       "      <th>text</th>\n",
       "      <th>target</th>\n",
       "      <th>stage</th>\n",
       "    </tr>\n",
       "  </thead>\n",
       "  <tbody>\n",
       "    <tr>\n",
       "      <th>0</th>\n",
       "      <td>[Confidence, in, the, pound, is, widely, expec...</td>\n",
       "      <td>[NN, IN, DT, NN, VBZ, RB, VBN, TO, VB, DT, JJ,...</td>\n",
       "      <td>train</td>\n",
       "    </tr>\n",
       "    <tr>\n",
       "      <th>1</th>\n",
       "      <td>[Chancellor, of, the, Exchequer, Nigel, Lawson...</td>\n",
       "      <td>[NNP, IN, DT, NNP, NNP, NNP, POS, VBN, NN, TO,...</td>\n",
       "      <td>train</td>\n",
       "    </tr>\n",
       "    <tr>\n",
       "      <th>2</th>\n",
       "      <td>[But, analysts, reckon, underlying, support, f...</td>\n",
       "      <td>[CC, NNS, VBP, VBG, NN, IN, NN, VBZ, VBN, VBN,...</td>\n",
       "      <td>train</td>\n",
       "    </tr>\n",
       "    <tr>\n",
       "      <th>3</th>\n",
       "      <td>[This, has, increased, the, risk, of, the, gov...</td>\n",
       "      <td>[DT, VBZ, VBN, DT, NN, IN, DT, NN, VBG, VBN, T...</td>\n",
       "      <td>train</td>\n",
       "    </tr>\n",
       "    <tr>\n",
       "      <th>4</th>\n",
       "      <td>[``, The, risks, for, sterling, of, a, bad, tr...</td>\n",
       "      <td>[``, DT, NNS, IN, NN, IN, DT, JJ, NN, NN, VBP,...</td>\n",
       "      <td>train</td>\n",
       "    </tr>\n",
       "  </tbody>\n",
       "</table>\n",
       "</div>"
      ],
      "text/plain": [
       "                                                text  \\\n",
       "0  [Confidence, in, the, pound, is, widely, expec...   \n",
       "1  [Chancellor, of, the, Exchequer, Nigel, Lawson...   \n",
       "2  [But, analysts, reckon, underlying, support, f...   \n",
       "3  [This, has, increased, the, risk, of, the, gov...   \n",
       "4  [``, The, risks, for, sterling, of, a, bad, tr...   \n",
       "\n",
       "                                              target  stage  \n",
       "0  [NN, IN, DT, NN, VBZ, RB, VBN, TO, VB, DT, JJ,...  train  \n",
       "1  [NNP, IN, DT, NNP, NNP, NNP, POS, VBN, NN, TO,...  train  \n",
       "2  [CC, NNS, VBP, VBG, NN, IN, NN, VBZ, VBN, VBN,...  train  \n",
       "3  [DT, VBZ, VBN, DT, NN, IN, DT, NN, VBG, VBN, T...  train  \n",
       "4  [``, DT, NNS, IN, NN, IN, DT, JJ, NN, NN, VBP,...  train  "
      ]
     },
     "execution_count": 560,
     "metadata": {},
     "output_type": "execute_result"
    }
   ],
   "source": [
    "df.head()"
   ]
  },
  {
   "cell_type": "code",
   "execution_count": 546,
   "id": "f99fcd32-ad7c-4e4b-a7f5-3ecae1339cb0",
   "metadata": {},
   "outputs": [],
   "source": [
    "# check if length of text and target are the same for each sample\n",
    "\n",
    "for idx, row in df.iterrows():\n",
    "    if len(row[\"text\"]) != len(row[\"target\"]):\n",
    "        print(idx)"
   ]
  },
  {
   "cell_type": "markdown",
   "id": "c4ede6bf-7132-4ef4-b570-6d5d4c2dfda5",
   "metadata": {
    "tags": []
   },
   "source": [
    "### EDA"
   ]
  },
  {
   "cell_type": "code",
   "execution_count": 548,
   "id": "c6bf02a5-3ce3-4146-900c-c864abfeae5c",
   "metadata": {},
   "outputs": [
    {
     "name": "stdout",
     "output_type": "stream",
     "text": [
      "Total number of sentences:\n",
      "Training set 8937\n",
      "Test set 2013\n"
     ]
    }
   ],
   "source": [
    "print(\n",
    "    f\"Total number of sentences:\\n\" \n",
    "    f\"Training set {len(train_df)}\\n\"\n",
    "    f\"Test set {len(test_df)}\"\n",
    ")"
   ]
  },
  {
   "cell_type": "code",
   "execution_count": 550,
   "id": "d2ec8b20-5c5e-464a-8baa-8c8990d403ff",
   "metadata": {},
   "outputs": [
    {
     "name": "stdout",
     "output_type": "stream",
     "text": [
      "Avg. number of words per sentence:\n",
      "Training set: 23.7\n",
      "Test set: 23.5\n"
     ]
    }
   ],
   "source": [
    "avg_train_sent_length = np.mean([len(row[\"text\"]) for _, row in train_df.iterrows()])\n",
    "avg_test_sent_length = np.mean([len(row[\"text\"]) for _, row in test_df.iterrows()])\n",
    "    \n",
    "print(\n",
    "    f\"Avg. number of words per sentence:\\n\"\n",
    "    f\"Training set: {avg_train_sent_length:.1f}\\n\"\n",
    "    f\"Test set: {avg_test_sent_length:.1f}\"\n",
    ")"
   ]
  },
  {
   "cell_type": "code",
   "execution_count": 554,
   "id": "f2ae663a-dd5b-472d-b04d-009ac9cf900d",
   "metadata": {},
   "outputs": [
    {
     "data": {
      "image/png": "[encoded data removed]",
      "text/plain": [
       "<Figure size 1440x360 with 2 Axes>"
      ]
     },
     "metadata": {
      "needs_background": "light"
     },
     "output_type": "display_data"
    }
   ],
   "source": [
    "plt.figure(figsize=(20,5))\n",
    "\n",
    "for plot, (string, data) in enumerate(zip([\"Train\", \"Test\"], [train_df, test_df])):\n",
    "    \n",
    "    pos_tags = list()\n",
    "    for idx, row in df.iterrows():\n",
    "        pos_tags.extend(row[\"target\"])\n",
    "\n",
    "    plt.subplot(1, 2, plot+1)\n",
    "    pd.Series(pos_tags).value_counts(normalize=True).plot.bar()\n",
    "    plt.title(f\"Class distribution - {string}\")\n",
    "    \n",
    "plt.show()"
   ]
  },
  {
   "cell_type": "markdown",
   "id": "1f27fe82-788b-4cdc-86af-ff21fdcf1845",
   "metadata": {
    "tags": []
   },
   "source": [
    "### Targets"
   ]
  },
  {
   "cell_type": "code",
   "execution_count": 561,
   "id": "13cdc8f1-5113-4c57-81c8-fed4134fa777",
   "metadata": {},
   "outputs": [
    {
     "name": "stdout",
     "output_type": "stream",
     "text": [
      "{'CC', '.', 'VBD', 'JJS', 'VB', 'FW', ':', 'IN', 'VBG', 'WRB', 'POS', ',', 'NNS', 'RBR', 'WP', 'PDT', 'JJ', 'UH', 'NNPS', 'TO', '``', 'RBS', 'WDT', '#', '$', 'RB', 'JJR', 'NNP', 'MD', 'NN', 'VBN', 'VBP', 'PRP$', '(', \"''\", 'EX', 'WP$', 'CD', 'DT', 'RP', ')', 'PRP', 'VBZ', 'SYM'}\n"
     ]
    }
   ],
   "source": [
    "# get all unique POS tags\n",
    "\n",
    "unique_pos_tags = set()\n",
    "for idx, row in df.iterrows():\n",
    "    for tag in row[\"target\"]:\n",
    "        if tag not in unique_pos_tags:\n",
    "            unique_pos_tags.add(tag)\n",
    "\n",
    "print(unique_pos_tags)"
   ]
  },
  {
   "cell_type": "code",
   "execution_count": 562,
   "id": "b104053a-cd8c-4e64-a097-d55372e76594",
   "metadata": {},
   "outputs": [
    {
     "name": "stdout",
     "output_type": "stream",
     "text": [
      "{0: 0, 'CC': 1, '.': 2, 'VBD': 3, 'JJS': 4, 'VB': 5, 'FW': 6, ':': 7, 'IN': 8, 'VBG': 9, 'WRB': 10, 'POS': 11, ',': 12, 'NNS': 13, 'RBR': 14, 'WP': 15, 'PDT': 16, 'JJ': 17, 'UH': 18, 'NNPS': 19, 'TO': 20, '``': 21, 'RBS': 22, 'WDT': 23, '#': 24, '$': 25, 'RB': 26, 'JJR': 27, 'NNP': 28, 'MD': 29, 'NN': 30, 'VBN': 31, 'VBP': 32, 'PRP$': 33, '(': 34, \"''\": 35, 'EX': 36, 'WP$': 37, 'CD': 38, 'DT': 39, 'RP': 40, ')': 41, 'PRP': 42, 'VBZ': 43, 'SYM': 44}\n"
     ]
    }
   ],
   "source": [
    "# create numerical encodings for POS tags\n",
    "\n",
    "pos2value = dict()\n",
    "pos2value[0] = 0\n",
    "for idx, tag in enumerate(unique_pos_tags):\n",
    "    pos2value[tag] = idx + 1  # because 0 will be padding token in both text and target\n",
    "\n",
    "value2pos = {v: k for k, v in pos2value.items()}\n",
    "\n",
    "print(pos2value)"
   ]
  },
  {
   "cell_type": "code",
   "execution_count": 563,
   "id": "a123c38d-2ce3-4654-a143-f85e72da10ac",
   "metadata": {},
   "outputs": [],
   "source": [
    "# encode targets in train and test set\n",
    "\n",
    "targets_encoded = list()\n",
    "for idx, row in df.iterrows():\n",
    "    target_encoded = list()\n",
    "    for tag in row[\"target\"]:\n",
    "        target_encoded.append(pos2value[tag])\n",
    "    targets_encoded.append(target_encoded)"
   ]
  },
  {
   "cell_type": "code",
   "execution_count": 564,
   "id": "65c20b08-0a0f-4e86-8317-ba8db3d8a964",
   "metadata": {},
   "outputs": [
    {
     "name": "stdout",
     "output_type": "stream",
     "text": [
      "Median sentence length 23.0\n",
      "Max sentence length 78\n"
     ]
    }
   ],
   "source": [
    "# get max sentence lengths sentence_lengths = [len(row[\"text\"]) for idx, row in train_df.iterrows()]\n",
    "\n",
    "max_seq_length = max(sentence_lengths)\n",
    "print(\"Median sentence length\", np.median(sentence_lengths))\n",
    "print(\"Max sentence length\", max_seq_length)"
   ]
  },
  {
   "cell_type": "code",
   "execution_count": 565,
   "id": "3888f911-ba36-4803-b979-84b50f1fe687",
   "metadata": {},
   "outputs": [],
   "source": [
    "# pad targets to max sentence length\n",
    "\n",
    "targets_padded = pad_sequences(targets_encoded, maxlen=max_seq_length, padding='post')\n",
    "targets_padded = [target.tolist() for target in targets_padded]"
   ]
  },
  {
   "cell_type": "code",
   "execution_count": 566,
   "id": "a8f24108-6b45-46e0-953b-b05c419f2903",
   "metadata": {},
   "outputs": [
    {
     "name": "stdout",
     "output_type": "stream",
     "text": [
      "Example target:\n",
      "Length before padding: 37\n",
      "Length after padding: 78\n"
     ]
    }
   ],
   "source": [
    "print(f\"Example target:\\n\"\n",
    "      f\"Length before padding: {len(targets_encoded[0])}\\n\"\n",
    "      f\"Length after padding: {len(targets_padded[0])}\")"
   ]
  },
  {
   "cell_type": "code",
   "execution_count": 567,
   "id": "0df868b8-d511-495a-bfc3-de67e3e6c9d2",
   "metadata": {},
   "outputs": [],
   "source": [
    "df[\"target_encoded\"] = targets_encoded\n",
    "df[\"target_padded\"] = targets_padded"
   ]
  },
  {
   "cell_type": "markdown",
   "id": "6ac915a8-2a40-4ae2-849a-e175ff9837a4",
   "metadata": {
    "tags": []
   },
   "source": [
    "### Inputs"
   ]
  },
  {
   "cell_type": "markdown",
   "id": "c0fddd8a-1e94-4f60-9a7b-652f4bf56ba9",
   "metadata": {},
   "source": [
    "#### Word IDs"
   ]
  },
  {
   "cell_type": "code",
   "execution_count": 568,
   "id": "b8734878-3f6d-4e4d-a1f2-89228af9aa43",
   "metadata": {},
   "outputs": [],
   "source": [
    "# encode text\n",
    "\n",
    "tokenizer = Tokenizer(filters=\"\")\n",
    "text_encoded, word2value = encode_text(df[\"text\"], tokenizer)"
   ]
  },
  {
   "cell_type": "code",
   "execution_count": 569,
   "id": "e4b13cb9-6536-4845-8ae6-980093fb753b",
   "metadata": {},
   "outputs": [],
   "source": [
    "# pad text\n",
    "\n",
    "texts_padded = pad_sequences(text_encoded, maxlen=max_seq_length, padding='post')\n",
    "texts_padded = [text.tolist() for text in texts_padded]"
   ]
  },
  {
   "cell_type": "code",
   "execution_count": 570,
   "id": "1d21b44e-6203-446b-80ff-dc34e830c075",
   "metadata": {},
   "outputs": [],
   "source": [
    "df[\"text_encoded\"] = text_encoded\n",
    "df[\"text_padded\"] = texts_padded"
   ]
  },
  {
   "cell_type": "code",
   "execution_count": 571,
   "id": "9e3208f3-9fd2-4288-97ad-cbbf994fdca7",
   "metadata": {},
   "outputs": [
    {
     "name": "stdout",
     "output_type": "stream",
     "text": [
      "Example text:\n",
      "Length before padding: 37\n",
      "Length after padding: 78\n"
     ]
    }
   ],
   "source": [
    "print(f\"Example text:\\n\"\n",
    "      f\"Length before padding: {len(text_encoded[0])}\\n\"\n",
    "      f\"Length after padding: {len(texts_padded[0])}\")"
   ]
  },
  {
   "cell_type": "code",
   "execution_count": 572,
   "id": "0d432e59-32c6-4e3d-b232-c91d3ed4b8e8",
   "metadata": {},
   "outputs": [],
   "source": [
    "# check if padded text and padded targets have the same length\n",
    "\n",
    "for idx in range(len(df)):\n",
    "    if len(df[\"text_padded\"].iloc[idx]) != len(df[\"target_padded\"].iloc[idx]):\n",
    "        print(idx)"
   ]
  },
  {
   "cell_type": "code",
   "execution_count": 573,
   "id": "405e54e3-e51a-4025-858d-3206e52424ee",
   "metadata": {
    "tags": []
   },
   "outputs": [
    {
     "data": {
      "text/html": [
       "<div>\n",
       "<style scoped>\n",
       "    .dataframe tbody tr th:only-of-type {\n",
       "        vertical-align: middle;\n",
       "    }\n",
       "\n",
       "    .dataframe tbody tr th {\n",
       "        vertical-align: top;\n",
       "    }\n",
       "\n",
       "    .dataframe thead th {\n",
       "        text-align: right;\n",
       "    }\n",
       "</style>\n",
       "<table border=\"1\" class=\"dataframe\">\n",
       "  <thead>\n",
       "    <tr style=\"text-align: right;\">\n",
       "      <th></th>\n",
       "      <th>text</th>\n",
       "      <th>target</th>\n",
       "      <th>stage</th>\n",
       "      <th>target_encoded</th>\n",
       "      <th>target_padded</th>\n",
       "      <th>text_encoded</th>\n",
       "      <th>text_padded</th>\n",
       "    </tr>\n",
       "  </thead>\n",
       "  <tbody>\n",
       "    <tr>\n",
       "      <th>3581</th>\n",
       "      <td>[Only, at, the, moment, of, maximum, roll, did...</td>\n",
       "      <td>[RB, IN, DT, NN, IN, JJ, NN, VBD, PRP, VBP, WP...</td>\n",
       "      <td>train</td>\n",
       "      <td>[26, 8, 39, 30, 8, 17, 30, 3, 42, 32, 15, 3, 9...</td>\n",
       "      <td>[26, 8, 39, 30, 8, 17, 30, 3, 42, 32, 15, 3, 9...</td>\n",
       "      <td>[90, 20, 2, 1309, 4, 2754, 2487, 158, 69, 8603...</td>\n",
       "      <td>[90, 20, 2, 1309, 4, 2754, 2487, 158, 69, 8603...</td>\n",
       "    </tr>\n",
       "    <tr>\n",
       "      <th>4304</th>\n",
       "      <td>[``, I, see, it, as, a, sewage, treatment, pla...</td>\n",
       "      <td>[``, PRP, VBP, PRP, IN, DT, NN, NN, NN, ,, '',...</td>\n",
       "      <td>train</td>\n",
       "      <td>[21, 42, 32, 42, 8, 39, 30, 30, 30, 12, 35, 42...</td>\n",
       "      <td>[21, 42, 32, 42, 8, 39, 30, 30, 30, 12, 35, 42...</td>\n",
       "      <td>[13, 69, 470, 17, 24, 6, 8886, 1317, 515, 1, 1...</td>\n",
       "      <td>[13, 69, 470, 17, 24, 6, 8886, 1317, 515, 1, 1...</td>\n",
       "    </tr>\n",
       "    <tr>\n",
       "      <th>839</th>\n",
       "      <td>[A, further, decline, in, prices, will, lead, ...</td>\n",
       "      <td>[DT, JJ, NN, IN, NNS, MD, VB, TO, VB, NN, NNS,...</td>\n",
       "      <td>train</td>\n",
       "      <td>[39, 17, 30, 8, 13, 29, 5, 20, 5, 30, 13, 8, 3...</td>\n",
       "      <td>[39, 17, 30, 8, 13, 29, 5, 20, 5, 30, 13, 8, 3...</td>\n",
       "      <td>[6, 397, 365, 7, 123, 38, 883, 5, 1803, 423, 1...</td>\n",
       "      <td>[6, 397, 365, 7, 123, 38, 883, 5, 1803, 423, 1...</td>\n",
       "    </tr>\n",
       "  </tbody>\n",
       "</table>\n",
       "</div>"
      ],
      "text/plain": [
       "                                                   text  \\\n",
       "3581  [Only, at, the, moment, of, maximum, roll, did...   \n",
       "4304  [``, I, see, it, as, a, sewage, treatment, pla...   \n",
       "839   [A, further, decline, in, prices, will, lead, ...   \n",
       "\n",
       "                                                 target  stage  \\\n",
       "3581  [RB, IN, DT, NN, IN, JJ, NN, VBD, PRP, VBP, WP...  train   \n",
       "4304  [``, PRP, VBP, PRP, IN, DT, NN, NN, NN, ,, '',...  train   \n",
       "839   [DT, JJ, NN, IN, NNS, MD, VB, TO, VB, NN, NNS,...  train   \n",
       "\n",
       "                                         target_encoded  \\\n",
       "3581  [26, 8, 39, 30, 8, 17, 30, 3, 42, 32, 15, 3, 9...   \n",
       "4304  [21, 42, 32, 42, 8, 39, 30, 30, 30, 12, 35, 42...   \n",
       "839   [39, 17, 30, 8, 13, 29, 5, 20, 5, 30, 13, 8, 3...   \n",
       "\n",
       "                                          target_padded  \\\n",
       "3581  [26, 8, 39, 30, 8, 17, 30, 3, 42, 32, 15, 3, 9...   \n",
       "4304  [21, 42, 32, 42, 8, 39, 30, 30, 30, 12, 35, 42...   \n",
       "839   [39, 17, 30, 8, 13, 29, 5, 20, 5, 30, 13, 8, 3...   \n",
       "\n",
       "                                           text_encoded  \\\n",
       "3581  [90, 20, 2, 1309, 4, 2754, 2487, 158, 69, 8603...   \n",
       "4304  [13, 69, 470, 17, 24, 6, 8886, 1317, 515, 1, 1...   \n",
       "839   [6, 397, 365, 7, 123, 38, 883, 5, 1803, 423, 1...   \n",
       "\n",
       "                                            text_padded  \n",
       "3581  [90, 20, 2, 1309, 4, 2754, 2487, 158, 69, 8603...  \n",
       "4304  [13, 69, 470, 17, 24, 6, 8886, 1317, 515, 1, 1...  \n",
       "839   [6, 397, 365, 7, 123, 38, 883, 5, 1803, 423, 1...  "
      ]
     },
     "execution_count": 573,
     "metadata": {},
     "output_type": "execute_result"
    }
   ],
   "source": [
    "df.sample(3)"
   ]
  },
  {
   "cell_type": "code",
   "execution_count": null,
   "id": "74e91a1a-a2db-4460-b682-c2ef529ac2a6",
   "metadata": {},
   "outputs": [],
   "source": [
    "df[\"text_lower\"] = text"
   ]
  },
  {
   "cell_type": "code",
   "execution_count": null,
   "id": "466faa6b-b93c-4bfd-bba8-e2ff1a16b727",
   "metadata": {},
   "outputs": [
    {
     "name": "stdout",
     "output_type": "stream",
     "text": [
      "17258\n"
     ]
    }
   ],
   "source": [
    "# create vocabulary based on unique words and IDs\n",
    "\n",
    "unique_words = set()\n",
    "for idx in range(len(df)):\n",
    "    for word in df[\"text\"].iloc[idx]:\n",
    "        if word.lower() not in unique_words:\n",
    "            unique_words.add(word.lower())\n",
    "\n",
    "print(len(unique_tokens))\n",
    "\n",
    "word2value = dict()\n",
    "for idx, word in enumerate(unique_words):\n",
    "    word2value[word] = idx"
   ]
  },
  {
   "cell_type": "code",
   "execution_count": null,
   "id": "6f48c846-9923-4706-8e30-5c790f064b47",
   "metadata": {},
   "outputs": [],
   "source": [
    "texts_encoded = list()\n",
    "for idx in range(len(df)):\n",
    "    text_encoded = list()\n",
    "    for word in df[\"text\"].iloc[idx]:\n",
    "        text_encoded.append(word2value[word.lower()])\n",
    "    texts_encoded.append(text_encoded)"
   ]
  },
  {
   "cell_type": "code",
   "execution_count": null,
   "id": "3139ebdb-44a2-464b-ac8d-772a232c8c91",
   "metadata": {
    "tags": []
   },
   "outputs": [],
   "source": [
    "df[\"text_encoded\"] = texts_encoded"
   ]
  },
  {
   "cell_type": "markdown",
   "id": "4ebd1773-f092-4c41-b4a7-a84e9ffc7428",
   "metadata": {},
   "source": [
    "#### Word Embeddings"
   ]
  },
  {
   "cell_type": "code",
   "execution_count": 49,
   "id": "5640e364-2b0c-4e69-8665-4eb3ba719c59",
   "metadata": {},
   "outputs": [],
   "source": [
    "word2vec = load_word2vec_format(\"GoogleNews-vectors-negative300.bin\", binary=True)"
   ]
  },
  {
   "cell_type": "code",
   "execution_count": 574,
   "id": "18524f76-a4b1-49c4-bbaa-9816928716e0",
   "metadata": {},
   "outputs": [
    {
     "name": "stdout",
     "output_type": "stream",
     "text": [
      "5713 words not in Word2Vec - initializing their weights with 0.\n"
     ]
    }
   ],
   "source": [
    "embedding_weights = get_embedding_weights(300, word2value, word2vec)"
   ]
  },
  {
   "cell_type": "markdown",
   "id": "0edd869b-bdae-4f4b-8bd5-4ee8fd226850",
   "metadata": {
    "jp-MarkdownHeadingCollapsed": true,
    "tags": []
   },
   "source": [
    "### Split dataset"
   ]
  },
  {
   "cell_type": "code",
   "execution_count": 575,
   "id": "7607e768-6f6d-4dce-9709-f2df165da54f",
   "metadata": {},
   "outputs": [
    {
     "name": "stdout",
     "output_type": "stream",
     "text": [
      "Number of training samples: 8044\n",
      "Number of validation samples: 893\n"
     ]
    }
   ],
   "source": [
    "# randomly split train data into training and validation set\n",
    "\n",
    "train_df = df[df[\"stage\"] == \"train\"]\n",
    "test_df = df[df[\"stage\"] == \"test\"]\n",
    "\n",
    "train_df = train_df.sample(frac=1, random_state=0).reset_index(drop=True)\n",
    "num_train_samples = int(len(train_df) * 0.9) + 1\n",
    "num_valid_samples = int(len(train_df) * 0.1)\n",
    "\n",
    "print(f\"Number of training samples: {num_train_samples}\\n\"\n",
    "      f\"Number of validation samples: {num_valid_samples}\")"
   ]
  },
  {
   "cell_type": "code",
   "execution_count": 576,
   "id": "cda5bcc1-9dc8-4ff9-b466-b7e418cc6dba",
   "metadata": {},
   "outputs": [],
   "source": [
    "train_df = df[:num_train_samples].reset_index()\n",
    "valid_df = df[num_train_samples:].reset_index()"
   ]
  },
  {
   "cell_type": "markdown",
   "id": "1b75d411-d676-4b37-8398-efb8cf47a01f",
   "metadata": {
    "tags": []
   },
   "source": [
    "### Data Loader"
   ]
  },
  {
   "cell_type": "code",
   "execution_count": 578,
   "id": "158bab6f-8435-4426-bfaa-658946a06c25",
   "metadata": {},
   "outputs": [],
   "source": [
    "# dataset\n",
    "\n",
    "train_ds = POSDataset(train_df[\"text_padded\"], train_df[\"target_padded\"]) \n",
    "valid_ds = POSDataset(valid_df[\"text_padded\"], valid_df[\"target_padded\"]) \n",
    "test_ds = POSDataset(test_df[\"text_padded\"], test_df[\"target_padded\"]) "
   ]
  },
  {
   "cell_type": "code",
   "execution_count": 446,
   "id": "406c079c-97c8-4e82-8bba-8bac1d50acc9",
   "metadata": {},
   "outputs": [],
   "source": [
    "# data loader\n",
    "\n",
    "train_dl = DataLoader(train_ds, batch_size=36)\n",
    "valid_dl = DataLoader(valid_ds, batch_size=36, shuffle=False)"
   ]
  },
  {
   "cell_type": "code",
   "execution_count": 558,
   "id": "4f8217f3-c56a-47fd-be5b-7f76bdb52117",
   "metadata": {},
   "outputs": [
    {
     "name": "stdout",
     "output_type": "stream",
     "text": [
      "['The', 'promotions', '--', 'dubbed', 'everything', 'from', \"'T-\", 'is', 'the', 'Season', 'to', 'be', 'Jolly', 'to', 'Kringle', 'fares', '--', 'put', 'round-trip', 'fares', 'at', '$', '98', ',', '$', '148', 'and', '$', '198', '.']\n",
      "torch.Size([1, 78])\n",
      "torch.int64\n"
     ]
    }
   ],
   "source": [
    "print(train_df[\"text\"].iloc[1])\n",
    "input_ = train_df[\"text_padded\"].iloc[1] # (max_seq_length)\n",
    "input_ = torch.tensor(input_, dtype=torch.long).unsqueeze(0)\n",
    "print(input_.shape)\n",
    "print(input_.dtype)"
   ]
  },
  {
   "cell_type": "code",
   "execution_count": 483,
   "id": "cd364a76-7a7d-40f1-b55d-47ab31564189",
   "metadata": {},
   "outputs": [
    {
     "name": "stdout",
     "output_type": "stream",
     "text": [
      "Input torch.Size([1, 78])\n",
      "Embedding torch.Size([1, 78, 300])\n",
      "RNN Output torch.Size([1, 78, 64])\n",
      "TDD Input torch.Size([1, 1, 78, 64])\n",
      "TDD Output torch.Size([1, 45, 78, 1])\n",
      "Return torch.Size([1, 45, 78])\n"
     ]
    }
   ],
   "source": [
    "output = model(input_)"
   ]
  },
  {
   "cell_type": "code",
   "execution_count": 484,
   "id": "22aeb70b-425a-492b-887f-b037d9f00c91",
   "metadata": {},
   "outputs": [
    {
     "name": "stdout",
     "output_type": "stream",
     "text": [
      "torch.Size([78])\n"
     ]
    }
   ],
   "source": [
    "cls_output = torch.argmax(output, dim=1).squeeze(0)\n",
    "print(cls_output.shape)"
   ]
  },
  {
   "cell_type": "code",
   "execution_count": 489,
   "id": "6d5b8499-9bdb-42f3-a95d-934232bd1dce",
   "metadata": {},
   "outputs": [
    {
     "name": "stdout",
     "output_type": "stream",
     "text": [
      "[28, 29, 20, 28, 17, 17, 40, 43, 29, 7, 11, 40, 35, 41, 3, 41, 3, 43, 20, 23, 0, 0, 0, 0, 0, 0, 0, 0, 0, 0, 0, 0, 0, 0, 0, 0, 0, 0, 0, 0, 0, 0, 0, 0, 0, 0, 0, 0, 0, 0, 0, 0, 0, 0, 0, 0, 0, 0, 0, 0, 0, 0, 0, 0, 0, 0, 0, 0, 0, 0, 0, 0, 0, 0, 0, 0, 0, 0]\n",
      "tensor([42, 42, 37, 15, 15,  7, 15, 29, 37, 40, 42, 15, 17, 15, 40, 38, 40, 37,\n",
      "        15, 15, 37, 37, 37, 37, 37, 37, 37, 37, 37, 37, 37, 37, 37, 37, 37, 37,\n",
      "        37, 37, 37, 37, 37, 37, 37, 37, 37, 37, 37, 37, 37, 37, 37, 37, 37, 37,\n",
      "        37, 37, 37, 37, 37, 37, 37, 37, 37, 37, 37, 37, 37, 37, 37, 37, 37, 37,\n",
      "        37, 37, 37, 37, 37, 37])\n"
     ]
    }
   ],
   "source": [
    "print(train_df[\"target_padded\"].iloc[1])\n",
    "print(cls_output)"
   ]
  },
  {
   "cell_type": "code",
   "execution_count": 515,
   "id": "eb271000-a00d-45d6-8683-8884e8d1b504",
   "metadata": {},
   "outputs": [
    {
     "name": "stdout",
     "output_type": "stream",
     "text": [
      "[28 29 20 28 17 17 40 43 29  7 11 40 35 41  3 41  3 43 20 23]\n",
      "[42 42 37 15 15  7 15 29 37 40 42 15 17 15 40 38 40 37 15 15]\n",
      "0.0\n"
     ]
    }
   ],
   "source": [
    "classes = list(value2pos.keys())\n",
    "\n",
    "target = np.array(train_df[\"target_encoded\"].iloc[1])\n",
    "pred = np.array(cls_output[:len(target)])\n",
    "\n",
    "print(target)\n",
    "print(pred)\n",
    "\n",
    "f1 = f1_score(target, pred, labels=classes, average=\"micro\")\n",
    "print(f1)\n",
    "#for cls in classes[1:]: # don't take adding class into account\n",
    "#    target_cls = np.where(target == cls, target, 0)\n",
    "#    pred_cls = np.where(pred == cls, pred, 0)\n",
    "#    #print(target_cls)\n",
    "#    #print(pred_cls)\n",
    "#    f1 = f1_score(target_cls, pred_cls)\n",
    "#    print(f1)\n",
    "##f1_score(y_true, y_pred, *, labels=None, pos_label=1, average='binary', "
   ]
  },
  {
   "cell_type": "markdown",
   "id": "511bbb65-8e12-4559-ae3a-eecec23e5058",
   "metadata": {
    "tags": []
   },
   "source": [
    "## Training"
   ]
  },
  {
   "cell_type": "code",
   "execution_count": 579,
   "id": "1a8bdc08-be6e-40df-8eeb-b8337c639ff4",
   "metadata": {},
   "outputs": [],
   "source": [
    "model = Model(\n",
    "    output_size=len(pos2value),\n",
    "    hidden_dim=64,\n",
    "    n_layers=1,\n",
    "    embedding_weights=embedding_weights,\n",
    "    embedding_size=300\n",
    ")"
   ]
  },
  {
   "cell_type": "code",
   "execution_count": 326,
   "id": "6785ee86-ee89-4a25-b115-ba03a6ff7007",
   "metadata": {
    "tags": []
   },
   "outputs": [
    {
     "name": "stdout",
     "output_type": "stream",
     "text": [
      "----- Epoch 1 ----- \n",
      "Avg. train loss 2.630\n",
      "Avg. valid loss 1.599\n",
      "----- Epoch 2 ----- \n",
      "Avg. train loss 1.488\n",
      "Avg. valid loss 1.275\n",
      "----- Epoch 3 ----- \n",
      "Avg. train loss 1.077\n",
      "Avg. valid loss 0.863\n",
      "----- Epoch 4 ----- \n",
      "Avg. train loss 0.726\n",
      "Avg. valid loss 0.594\n",
      "----- Epoch 5 ----- \n",
      "Avg. train loss 0.479\n",
      "Avg. valid loss 0.427\n",
      "----- Epoch 6 ----- \n",
      "Avg. train loss 0.329\n",
      "Avg. valid loss 0.334\n",
      "----- Epoch 7 ----- \n",
      "Avg. train loss 0.242\n",
      "Avg. valid loss 0.284\n",
      "----- Epoch 8 ----- \n",
      "Avg. train loss 0.181\n",
      "Avg. valid loss 0.248\n",
      "----- Epoch 9 ----- \n",
      "Avg. train loss 0.149\n",
      "Avg. valid loss 0.233\n",
      "----- Epoch 10 ----- \n",
      "Avg. train loss 0.126\n",
      "Avg. valid loss 0.218\n",
      "----- Epoch 11 ----- \n",
      "Avg. train loss 0.111\n",
      "Avg. valid loss 0.215\n",
      "----- Epoch 12 ----- \n",
      "Avg. train loss 0.098\n",
      "Avg. valid loss 0.205\n",
      "----- Epoch 13 ----- \n",
      "Avg. train loss 0.089\n",
      "Avg. valid loss 0.206\n",
      "----- Epoch 14 ----- \n",
      "Avg. train loss 0.081\n",
      "Avg. valid loss 0.200\n",
      "----- Epoch 15 ----- \n",
      "Avg. train loss 0.074\n",
      "Avg. valid loss 0.202\n",
      "----- Epoch 16 ----- \n",
      "Avg. train loss 0.069\n",
      "Avg. valid loss 0.202\n",
      "----- Epoch 17 ----- \n",
      "Avg. train loss 0.065\n",
      "Avg. valid loss 0.201\n",
      "----- Epoch 18 ----- \n",
      "Avg. train loss 0.061\n",
      "Avg. valid loss 0.206\n",
      "----- Epoch 19 ----- \n",
      "Avg. train loss 0.058\n",
      "Avg. valid loss 0.203\n",
      "----- Epoch 20 ----- \n",
      "Avg. train loss 0.056\n",
      "Avg. valid loss 0.209\n",
      "----- Epoch 21 ----- \n",
      "Avg. train loss 0.053\n",
      "Avg. valid loss 0.206\n",
      "----- Epoch 22 ----- \n",
      "Avg. train loss 0.051\n",
      "Avg. valid loss 0.213\n",
      "----- Epoch 23 ----- \n",
      "Avg. train loss 0.050\n",
      "Avg. valid loss 0.210\n",
      "----- Epoch 24 ----- \n",
      "Avg. train loss 0.049\n",
      "Avg. valid loss 0.218\n",
      "----- Epoch 25 ----- \n",
      "Avg. train loss 0.047\n",
      "Avg. valid loss 0.215\n",
      "----- Epoch 26 ----- \n",
      "Avg. train loss 0.046\n",
      "Avg. valid loss 0.220\n",
      "----- Epoch 27 ----- \n",
      "Avg. train loss 0.044\n",
      "Avg. valid loss 0.219\n",
      "----- Epoch 28 ----- \n",
      "Avg. train loss 0.043\n",
      "Avg. valid loss 0.224\n",
      "----- Epoch 29 ----- \n",
      "Avg. train loss 0.042\n",
      "Avg. valid loss 0.225\n"
     ]
    }
   ],
   "source": [
    "# start training\n",
    "\n",
    "train_losses, valid_losses = train_eval(\n",
    "    train_dataloader=train_dl, \n",
    "    valid_dataloader=valid_dl, \n",
    "    model=model,\n",
    "    num_epochs=200,\n",
    "    early_stopping=15,\n",
    "    learning_rate=0.0001,\n",
    "    weight_decay=1e-8,\n",
    "    device=torch.device(\"cpu\")\n",
    ")"
   ]
  },
  {
   "cell_type": "code",
   "execution_count": 327,
   "id": "56fff3b8-b02b-4bcc-8611-e1cb7c87f08e",
   "metadata": {},
   "outputs": [
    {
     "data": {
      "image/png": "[encoded data removed]",
      "text/plain": [
       "<Figure size 504x288 with 1 Axes>"
      ]
     },
     "metadata": {
      "needs_background": "light"
     },
     "output_type": "display_data"
    }
   ],
   "source": [
    "plot_learning_curve(train_losses, valid_losses)"
   ]
  },
  {
   "cell_type": "markdown",
   "id": "9e38e3d1-3781-4667-b7c0-bf76222ad3f5",
   "metadata": {
    "tags": []
   },
   "source": [
    "## Evaluation"
   ]
  },
  {
   "cell_type": "markdown",
   "id": "b37a50ad-0e93-4ab9-b491-0af230f2d462",
   "metadata": {},
   "source": [
    "### Validating and Testing"
   ]
  },
  {
   "cell_type": "code",
   "execution_count": 421,
   "id": "d4b06aa7-e6fd-4547-9f2c-eb6f8d2aa388",
   "metadata": {},
   "outputs": [],
   "source": [
    "valid_dl = DataLoader(valid_ds, batch_size=1, shuffle=False)\n",
    "test_dl = DataLoader(test_ds, batch_size=1, shuffle=False)"
   ]
  },
  {
   "cell_type": "code",
   "execution_count": 425,
   "id": "6eedc5b5-e492-4fc1-b715-16f2a0ed79f8",
   "metadata": {},
   "outputs": [],
   "source": [
    "# get top-1 accuracy for validation set\n",
    "\n",
    "correct_valid, total_valid = inference_with_metrics(model, valid_dl, classes=list(value2pos.keys()))"
   ]
  },
  {
   "cell_type": "code",
   "execution_count": 426,
   "id": "33812c04-8e1c-4b74-ab55-e263413924c3",
   "metadata": {},
   "outputs": [],
   "source": [
    "# get top-1 accuracy for test set\n",
    "\n",
    "correct_test, total_test = inference_with_metrics(model, test_dl, classes=list(value2pos.keys()))"
   ]
  },
  {
   "cell_type": "code",
   "execution_count": 427,
   "id": "719a0e99-1180-4f8f-a651-0d71e1164ee1",
   "metadata": {},
   "outputs": [
    {
     "name": "stdout",
     "output_type": "stream",
     "text": [
      "Valid Top-1 Accuracy: 0.8793\n",
      "Test Top-1 Accuracy: 0.8740\n"
     ]
    }
   ],
   "source": [
    "print(\n",
    "    f\"Valid Top-1 Accuracy: {correct_valid['all'] / total_valid['all']:.4f}\\n\"\n",
    "    f\"Test Top-1 Accuracy: {correct_test['all'] / total_test['all']:.4f}\"\n",
    ")"
   ]
  },
  {
   "cell_type": "markdown",
   "id": "9a09fb70-a96e-4fed-8aea-f6e781cfa168",
   "metadata": {},
   "source": [
    "### Analysis"
   ]
  },
  {
   "cell_type": "code",
   "execution_count": 412,
   "id": "175001e5-29d6-4d61-b737-5e80850eb0a8",
   "metadata": {},
   "outputs": [],
   "source": [
    "metrics_df = get_analysis_dataframe(value2pos, correct_valid, correct_test, total_valid, total_test)"
   ]
  },
  {
   "cell_type": "code",
   "execution_count": 413,
   "id": "81907298-fd07-47ff-8487-1a6e114708b9",
   "metadata": {},
   "outputs": [
    {
     "data": {
      "image/png": "[encoded data removed]",
      "text/plain": [
       "<Figure size 864x288 with 1 Axes>"
      ]
     },
     "metadata": {
      "needs_background": "light"
     },
     "output_type": "display_data"
    }
   ],
   "source": [
    "metrics_df.plot(\n",
    "    x=\"tag\", \n",
    "    y=[\"test_score\", \"valid_score\"], \n",
    "    kind=\"bar\", \n",
    "    ylim=(0,1), \n",
    "    figsize=(12, 4), \n",
    "    xlabel=\"POS Tag\", \n",
    "    ylabel=\"Top-1 Accuracy\"\n",
    ");"
   ]
  },
  {
   "cell_type": "code",
   "execution_count": 456,
   "id": "e5baebb6-c080-4228-9691-84abd0e64788",
   "metadata": {},
   "outputs": [],
   "source": [
    "metrics_df[\"test_samples_perc\"] = metrics_df[\"test_samples\"].div(metrics_df[\"test_samples\"].sum(),axis=0)\n",
    "metrics_df[\"valid_samples_perc\"] = metrics_df[\"valid_samples\"].div(metrics_df[\"valid_samples\"].sum(),axis=0)"
   ]
  },
  {
   "cell_type": "code",
   "execution_count": 458,
   "id": "6082fef7-b566-4afb-9d40-eb94957c4be2",
   "metadata": {},
   "outputs": [
    {
     "data": {
      "image/png": "[encoded data removed]",
      "text/plain": [
       "<Figure size 864x288 with 1 Axes>"
      ]
     },
     "metadata": {
      "needs_background": "light"
     },
     "output_type": "display_data"
    }
   ],
   "source": [
    "metrics_df.plot(\n",
    "    x=\"tag\", \n",
    "    y=[\"test_score\", \"test_samples_perc\"], \n",
    "    kind=\"bar\", \n",
    "    ylim=(0,1), \n",
    "    figsize=(12, 4), \n",
    "    xlabel=\"POS Tag\"\n",
    ");"
   ]
  },
  {
   "cell_type": "code",
   "execution_count": 459,
   "id": "f5a05bc2-0ea9-43af-aa04-12076c66cc48",
   "metadata": {},
   "outputs": [
    {
     "data": {
      "image/png": "[encoded data removed]",
      "text/plain": [
       "<Figure size 864x288 with 1 Axes>"
      ]
     },
     "metadata": {
      "needs_background": "light"
     },
     "output_type": "display_data"
    }
   ],
   "source": [
    "metrics_df.plot(\n",
    "    x=\"tag\", \n",
    "    y=[\"valid_score\", \"valid_samples_perc\"], \n",
    "    kind=\"bar\", \n",
    "    ylim=(0,1), \n",
    "    figsize=(12, 4), \n",
    "    xlabel=\"POS Tag\"\n",
    ");"
   ]
  },
  {
   "cell_type": "code",
   "execution_count": 415,
   "id": "72246b0f-fcfd-4db5-9126-e6d877594443",
   "metadata": {
    "collapsed": true,
    "jupyter": {
     "outputs_hidden": true
    },
    "tags": []
   },
   "outputs": [
    {
     "data": {
      "text/html": [
       "<div>\n",
       "<style scoped>\n",
       "    .dataframe tbody tr th:only-of-type {\n",
       "        vertical-align: middle;\n",
       "    }\n",
       "\n",
       "    .dataframe tbody tr th {\n",
       "        vertical-align: top;\n",
       "    }\n",
       "\n",
       "    .dataframe thead th {\n",
       "        text-align: right;\n",
       "    }\n",
       "</style>\n",
       "<table border=\"1\" class=\"dataframe\">\n",
       "  <thead>\n",
       "    <tr style=\"text-align: right;\">\n",
       "      <th></th>\n",
       "      <th>tag</th>\n",
       "      <th>test_score</th>\n",
       "      <th>valid_score</th>\n",
       "      <th>test_samples</th>\n",
       "      <th>valid_samples</th>\n",
       "    </tr>\n",
       "  </thead>\n",
       "  <tbody>\n",
       "    <tr>\n",
       "      <th>22</th>\n",
       "      <td>MD</td>\n",
       "      <td>0.886631</td>\n",
       "      <td>0.896405</td>\n",
       "      <td>6642</td>\n",
       "      <td>9624</td>\n",
       "    </tr>\n",
       "    <tr>\n",
       "      <th>16</th>\n",
       "      <td>:</td>\n",
       "      <td>0.999211</td>\n",
       "      <td>0.999179</td>\n",
       "      <td>5071</td>\n",
       "      <td>7308</td>\n",
       "    </tr>\n",
       "    <tr>\n",
       "      <th>34</th>\n",
       "      <td>JJR</td>\n",
       "      <td>0.690595</td>\n",
       "      <td>0.711821</td>\n",
       "      <td>4806</td>\n",
       "      <td>7013</td>\n",
       "    </tr>\n",
       "    <tr>\n",
       "      <th>19</th>\n",
       "      <td>CD</td>\n",
       "      <td>0.986318</td>\n",
       "      <td>0.986007</td>\n",
       "      <td>4020</td>\n",
       "      <td>5717</td>\n",
       "    </tr>\n",
       "    <tr>\n",
       "      <th>24</th>\n",
       "      <td>,</td>\n",
       "      <td>0.879697</td>\n",
       "      <td>0.889274</td>\n",
       "      <td>3034</td>\n",
       "      <td>4326</td>\n",
       "    </tr>\n",
       "    <tr>\n",
       "      <th>33</th>\n",
       "      <td>PDT</td>\n",
       "      <td>0.697031</td>\n",
       "      <td>0.702921</td>\n",
       "      <td>2964</td>\n",
       "      <td>4211</td>\n",
       "    </tr>\n",
       "    <tr>\n",
       "      <th>0</th>\n",
       "      <td>POS</td>\n",
       "      <td>1.000000</td>\n",
       "      <td>1.000000</td>\n",
       "      <td>2390</td>\n",
       "      <td>3474</td>\n",
       "    </tr>\n",
       "    <tr>\n",
       "      <th>1</th>\n",
       "      <td>CC</td>\n",
       "      <td>1.000000</td>\n",
       "      <td>1.000000</td>\n",
       "      <td>1975</td>\n",
       "      <td>2859</td>\n",
       "    </tr>\n",
       "    <tr>\n",
       "      <th>29</th>\n",
       "      <td>WP$</td>\n",
       "      <td>0.829510</td>\n",
       "      <td>0.843830</td>\n",
       "      <td>1918</td>\n",
       "      <td>3112</td>\n",
       "    </tr>\n",
       "    <tr>\n",
       "      <th>28</th>\n",
       "      <td>.</td>\n",
       "      <td>0.834425</td>\n",
       "      <td>0.833133</td>\n",
       "      <td>1679</td>\n",
       "      <td>2499</td>\n",
       "    </tr>\n",
       "    <tr>\n",
       "      <th>25</th>\n",
       "      <td>$</td>\n",
       "      <td>0.878877</td>\n",
       "      <td>0.885417</td>\n",
       "      <td>1354</td>\n",
       "      <td>1920</td>\n",
       "    </tr>\n",
       "    <tr>\n",
       "      <th>37</th>\n",
       "      <td>JJS</td>\n",
       "      <td>0.500394</td>\n",
       "      <td>0.511357</td>\n",
       "      <td>1269</td>\n",
       "      <td>1805</td>\n",
       "    </tr>\n",
       "    <tr>\n",
       "      <th>18</th>\n",
       "      <td>0</td>\n",
       "      <td>0.996705</td>\n",
       "      <td>0.996493</td>\n",
       "      <td>1214</td>\n",
       "      <td>1711</td>\n",
       "    </tr>\n",
       "    <tr>\n",
       "      <th>2</th>\n",
       "      <td>NNPS</td>\n",
       "      <td>1.000000</td>\n",
       "      <td>1.000000</td>\n",
       "      <td>1178</td>\n",
       "      <td>1704</td>\n",
       "    </tr>\n",
       "    <tr>\n",
       "      <th>31</th>\n",
       "      <td>NN</td>\n",
       "      <td>0.743659</td>\n",
       "      <td>0.757463</td>\n",
       "      <td>1104</td>\n",
       "      <td>1608</td>\n",
       "    </tr>\n",
       "    <tr>\n",
       "      <th>23</th>\n",
       "      <td>PRP</td>\n",
       "      <td>0.882804</td>\n",
       "      <td>0.872800</td>\n",
       "      <td>913</td>\n",
       "      <td>1250</td>\n",
       "    </tr>\n",
       "    <tr>\n",
       "      <th>17</th>\n",
       "      <td>)</td>\n",
       "      <td>0.998771</td>\n",
       "      <td>0.998177</td>\n",
       "      <td>814</td>\n",
       "      <td>1097</td>\n",
       "    </tr>\n",
       "    <tr>\n",
       "      <th>30</th>\n",
       "      <td>IN</td>\n",
       "      <td>0.774725</td>\n",
       "      <td>0.784810</td>\n",
       "      <td>728</td>\n",
       "      <td>1027</td>\n",
       "    </tr>\n",
       "    <tr>\n",
       "      <th>32</th>\n",
       "      <td>VBN</td>\n",
       "      <td>0.730983</td>\n",
       "      <td>0.739597</td>\n",
       "      <td>539</td>\n",
       "      <td>745</td>\n",
       "    </tr>\n",
       "    <tr>\n",
       "      <th>3</th>\n",
       "      <td>NNP</td>\n",
       "      <td>1.000000</td>\n",
       "      <td>1.000000</td>\n",
       "      <td>470</td>\n",
       "      <td>667</td>\n",
       "    </tr>\n",
       "    <tr>\n",
       "      <th>4</th>\n",
       "      <td>WRB</td>\n",
       "      <td>1.000000</td>\n",
       "      <td>1.000000</td>\n",
       "      <td>434</td>\n",
       "      <td>614</td>\n",
       "    </tr>\n",
       "    <tr>\n",
       "      <th>5</th>\n",
       "      <td>VBP</td>\n",
       "      <td>1.000000</td>\n",
       "      <td>1.000000</td>\n",
       "      <td>421</td>\n",
       "      <td>594</td>\n",
       "    </tr>\n",
       "    <tr>\n",
       "      <th>6</th>\n",
       "      <td>#</td>\n",
       "      <td>1.000000</td>\n",
       "      <td>0.996546</td>\n",
       "      <td>384</td>\n",
       "      <td>579</td>\n",
       "    </tr>\n",
       "    <tr>\n",
       "      <th>7</th>\n",
       "      <td>TO</td>\n",
       "      <td>1.000000</td>\n",
       "      <td>1.000000</td>\n",
       "      <td>323</td>\n",
       "      <td>448</td>\n",
       "    </tr>\n",
       "    <tr>\n",
       "      <th>20</th>\n",
       "      <td>(</td>\n",
       "      <td>0.984177</td>\n",
       "      <td>0.972665</td>\n",
       "      <td>316</td>\n",
       "      <td>439</td>\n",
       "    </tr>\n",
       "    <tr>\n",
       "      <th>8</th>\n",
       "      <td>FW</td>\n",
       "      <td>1.000000</td>\n",
       "      <td>1.000000</td>\n",
       "      <td>238</td>\n",
       "      <td>348</td>\n",
       "    </tr>\n",
       "    <tr>\n",
       "      <th>35</th>\n",
       "      <td>RB</td>\n",
       "      <td>0.633663</td>\n",
       "      <td>0.612100</td>\n",
       "      <td>202</td>\n",
       "      <td>281</td>\n",
       "    </tr>\n",
       "    <tr>\n",
       "      <th>36</th>\n",
       "      <td>RBS</td>\n",
       "      <td>0.529703</td>\n",
       "      <td>0.538732</td>\n",
       "      <td>202</td>\n",
       "      <td>284</td>\n",
       "    </tr>\n",
       "    <tr>\n",
       "      <th>39</th>\n",
       "      <td>UH</td>\n",
       "      <td>0.384615</td>\n",
       "      <td>0.403409</td>\n",
       "      <td>130</td>\n",
       "      <td>176</td>\n",
       "    </tr>\n",
       "    <tr>\n",
       "      <th>9</th>\n",
       "      <td>RBR</td>\n",
       "      <td>1.000000</td>\n",
       "      <td>1.000000</td>\n",
       "      <td>110</td>\n",
       "      <td>150</td>\n",
       "    </tr>\n",
       "    <tr>\n",
       "      <th>10</th>\n",
       "      <td>VBG</td>\n",
       "      <td>1.000000</td>\n",
       "      <td>1.000000</td>\n",
       "      <td>93</td>\n",
       "      <td>134</td>\n",
       "    </tr>\n",
       "    <tr>\n",
       "      <th>27</th>\n",
       "      <td>VBD</td>\n",
       "      <td>0.857143</td>\n",
       "      <td>0.836364</td>\n",
       "      <td>77</td>\n",
       "      <td>110</td>\n",
       "    </tr>\n",
       "    <tr>\n",
       "      <th>12</th>\n",
       "      <td>PRP$</td>\n",
       "      <td>1.000000</td>\n",
       "      <td>1.000000</td>\n",
       "      <td>77</td>\n",
       "      <td>110</td>\n",
       "    </tr>\n",
       "    <tr>\n",
       "      <th>11</th>\n",
       "      <td>RP</td>\n",
       "      <td>1.000000</td>\n",
       "      <td>1.000000</td>\n",
       "      <td>77</td>\n",
       "      <td>110</td>\n",
       "    </tr>\n",
       "    <tr>\n",
       "      <th>26</th>\n",
       "      <td>NNS</td>\n",
       "      <td>0.873239</td>\n",
       "      <td>0.855556</td>\n",
       "      <td>71</td>\n",
       "      <td>90</td>\n",
       "    </tr>\n",
       "    <tr>\n",
       "      <th>21</th>\n",
       "      <td>``</td>\n",
       "      <td>0.979592</td>\n",
       "      <td>0.970149</td>\n",
       "      <td>49</td>\n",
       "      <td>67</td>\n",
       "    </tr>\n",
       "    <tr>\n",
       "      <th>13</th>\n",
       "      <td>''</td>\n",
       "      <td>1.000000</td>\n",
       "      <td>1.000000</td>\n",
       "      <td>48</td>\n",
       "      <td>68</td>\n",
       "    </tr>\n",
       "    <tr>\n",
       "      <th>40</th>\n",
       "      <td>DT</td>\n",
       "      <td>0.000000</td>\n",
       "      <td>0.000000</td>\n",
       "      <td>12</td>\n",
       "      <td>24</td>\n",
       "    </tr>\n",
       "    <tr>\n",
       "      <th>14</th>\n",
       "      <td>WDT</td>\n",
       "      <td>1.000000</td>\n",
       "      <td>1.000000</td>\n",
       "      <td>11</td>\n",
       "      <td>12</td>\n",
       "    </tr>\n",
       "    <tr>\n",
       "      <th>41</th>\n",
       "      <td>WP</td>\n",
       "      <td>0.000000</td>\n",
       "      <td>0.000000</td>\n",
       "      <td>10</td>\n",
       "      <td>17</td>\n",
       "    </tr>\n",
       "    <tr>\n",
       "      <th>38</th>\n",
       "      <td>VB</td>\n",
       "      <td>0.500000</td>\n",
       "      <td>0.600000</td>\n",
       "      <td>4</td>\n",
       "      <td>5</td>\n",
       "    </tr>\n",
       "    <tr>\n",
       "      <th>15</th>\n",
       "      <td>EX</td>\n",
       "      <td>1.000000</td>\n",
       "      <td>1.000000</td>\n",
       "      <td>4</td>\n",
       "      <td>6</td>\n",
       "    </tr>\n",
       "    <tr>\n",
       "      <th>42</th>\n",
       "      <td>JJ</td>\n",
       "      <td>0.000000</td>\n",
       "      <td>0.000000</td>\n",
       "      <td>2</td>\n",
       "      <td>2</td>\n",
       "    </tr>\n",
       "    <tr>\n",
       "      <th>43</th>\n",
       "      <td>VBZ</td>\n",
       "      <td>0.000000</td>\n",
       "      <td>0.000000</td>\n",
       "      <td>0</td>\n",
       "      <td>0</td>\n",
       "    </tr>\n",
       "  </tbody>\n",
       "</table>\n",
       "</div>"
      ],
      "text/plain": [
       "     tag  test_score  valid_score  test_samples  valid_samples\n",
       "22    MD    0.886631     0.896405          6642           9624\n",
       "16     :    0.999211     0.999179          5071           7308\n",
       "34   JJR    0.690595     0.711821          4806           7013\n",
       "19    CD    0.986318     0.986007          4020           5717\n",
       "24     ,    0.879697     0.889274          3034           4326\n",
       "33   PDT    0.697031     0.702921          2964           4211\n",
       "0    POS    1.000000     1.000000          2390           3474\n",
       "1     CC    1.000000     1.000000          1975           2859\n",
       "29   WP$    0.829510     0.843830          1918           3112\n",
       "28     .    0.834425     0.833133          1679           2499\n",
       "25     $    0.878877     0.885417          1354           1920\n",
       "37   JJS    0.500394     0.511357          1269           1805\n",
       "18     0    0.996705     0.996493          1214           1711\n",
       "2   NNPS    1.000000     1.000000          1178           1704\n",
       "31    NN    0.743659     0.757463          1104           1608\n",
       "23   PRP    0.882804     0.872800           913           1250\n",
       "17     )    0.998771     0.998177           814           1097\n",
       "30    IN    0.774725     0.784810           728           1027\n",
       "32   VBN    0.730983     0.739597           539            745\n",
       "3    NNP    1.000000     1.000000           470            667\n",
       "4    WRB    1.000000     1.000000           434            614\n",
       "5    VBP    1.000000     1.000000           421            594\n",
       "6      #    1.000000     0.996546           384            579\n",
       "7     TO    1.000000     1.000000           323            448\n",
       "20     (    0.984177     0.972665           316            439\n",
       "8     FW    1.000000     1.000000           238            348\n",
       "35    RB    0.633663     0.612100           202            281\n",
       "36   RBS    0.529703     0.538732           202            284\n",
       "39    UH    0.384615     0.403409           130            176\n",
       "9    RBR    1.000000     1.000000           110            150\n",
       "10   VBG    1.000000     1.000000            93            134\n",
       "27   VBD    0.857143     0.836364            77            110\n",
       "12  PRP$    1.000000     1.000000            77            110\n",
       "11    RP    1.000000     1.000000            77            110\n",
       "26   NNS    0.873239     0.855556            71             90\n",
       "21    ``    0.979592     0.970149            49             67\n",
       "13    ''    1.000000     1.000000            48             68\n",
       "40    DT    0.000000     0.000000            12             24\n",
       "14   WDT    1.000000     1.000000            11             12\n",
       "41    WP    0.000000     0.000000            10             17\n",
       "38    VB    0.500000     0.600000             4              5\n",
       "15    EX    1.000000     1.000000             4              6\n",
       "42    JJ    0.000000     0.000000             2              2\n",
       "43   VBZ    0.000000     0.000000             0              0"
      ]
     },
     "execution_count": 415,
     "metadata": {},
     "output_type": "execute_result"
    }
   ],
   "source": [
    "metrics_df.sort_values([\"test_samples\"], ascending=False)"
   ]
  },
  {
   "cell_type": "markdown",
   "id": "54e491c2-c815-461a-8ae5-6c80550e8785",
   "metadata": {},
   "source": [
    "- "
   ]
  },
  {
   "cell_type": "markdown",
   "id": "94168159-7384-4c40-b654-fcce94262e19",
   "metadata": {},
   "source": [
    "## Further Ideas"
   ]
  },
  {
   "cell_type": "markdown",
   "id": "6af32dee-3ce4-45d0-9be9-592d96876b9e",
   "metadata": {},
   "source": [
    "#### Data Preprocessing\n",
    "\n",
    "In terms of preprocessing, I noticed that around 5000 words are not in the Word2Vec vocabulary. These include a lot of numbers (most of them having the POS tag \"CD\") and hyphenated words.\n",
    "\n",
    "My idea for handling numbers would be to replace them with a unique token such as \"num\" – however, the current models already learns the the class \"CD\" almost perfectly, so there probably is no need to deal with them. \n",
    "\n",
    "Regarding hyphenated words, I am still unsure how to handle them well. The biggest problem here is, that each word in the sentence corresponds to a POS tag. Splitting the hyphenated word into two words would result in a sentence that has one token more than its target, thus messing up how tags are assigned to tokens in the particular sample. One idea would be to still split hyphenated words and duplicate its POS tag. This way `(\"friendly-looking\", \"JJ\")` would become `(\"friendly\", \"JJ\"), (\"looking\", \"JJ\")`. \n",
    "\n",
    "As noted in the written-up analysis, some of the punctuation (such as `.` and `'`) is not learned perfectly. What could allow the model to better learn them is to simply drop them for tokens that also include letters or digits. That way a token only consising of punctuation would be retained (i.e., `.` would still be `.`) but tokens such as `1.45` or `'s` would be converted to `145` or `s`, thus not confusing the model."
   ]
  },
  {
   "cell_type": "markdown",
   "id": "443d5571-5b6d-4fd4-bef7-e53a8e15fdc8",
   "metadata": {},
   "source": [
    "#### Model\n",
    "The model I used is quite simple – one embedding, one RNN layer and one Conv layer – so there is a lot of room to experiment around with the architecture:\n",
    "- the RNN layer could be replaced with a GRU or LSTM layer\n",
    "- the number of RNN/GRU/LSTM layers could be increased\n",
    "- the number of hidden dimensions could be increased\n",
    "\n",
    "However, making the model more complex also holds the danger of overfitting (especially given the not-so-large dataset at hand), against which some measures could be taken:\n",
    "- apply Dropout\n",
    "- experiment with different values for weight decay\n",
    "\n",
    "Of course, RNNs (as well as GRUs and LSTMs) come with their disadvantages. In general, they have problems with long-range dependencies and are slow to train. These problems are better handled by more recent NLP transformer models. One idea, thus, would be to finetune a pretrained BERT model. However, given the limited data we have, it might be a bit overkill to use BERT, but it may still be worth a try."
   ]
  },
  {
   "cell_type": "markdown",
   "id": "b9026c74-8766-4c45-b23c-856af3c78155",
   "metadata": {},
   "source": [
    "#### Analysis\n",
    "\n",
    "There's also lots of room for further analsis of results. I had a look at the global and per-class top-1 accuracy, which gave me a general feeling of how well the model performs. Calculating and plotting a confusion matrix would provide an even better insight into the model's performance and would give information about which classes are frequently mixed up (although a confusion matrix with 45 classes might take a little bit of time to fully take in).\n",
    "\n",
    "Comparing predictions and ground truth sample by sample might also provide some useful information why some of the classes were not learned that well. "
   ]
  }
 ],
 "metadata": {
  "kernelspec": {
   "display_name": "Python 3 (ipykernel)",
   "language": "python",
   "name": "python3"
  },
  "language_info": {
   "codemirror_mode": {
    "name": "ipython",
    "version": 3
   },
   "file_extension": ".py",
   "mimetype": "text/x-python",
   "name": "python",
   "nbconvert_exporter": "python",
   "pygments_lexer": "ipython3",
   "version": "3.8.10"
  }
 },
 "nbformat": 4,
 "nbformat_minor": 5
}
