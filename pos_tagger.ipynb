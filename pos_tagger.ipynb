{
 "cells": [
  {
   "cell_type": "markdown",
   "id": "0ef03e42-8062-475f-81ab-2da3b6e1c444",
   "metadata": {},
   "source": [
    "# Training and Evaluating a POS Tagger"
   ]
  },
  {
   "cell_type": "markdown",
   "id": "8e045bb0-5606-4c4f-9aa1-454f8f9dcbe2",
   "metadata": {},
   "source": [
    "**Goal**\n",
    "- assign POS tag to each word\n",
    "    - x = first column of conll, y = second column of conll\n",
    "\n",
    "**Plan**\n",
    "- preprocess data\n",
    "    - numerical classes bsed on unique POS tags\n",
    "    - encoded strings (look at ways to do that)\n",
    "- decide on model (have to be able to explain it!)\n",
    "- train and evaluation loop\n",
    "- pick appropriate metric (F1! precision? recall?)\n",
    "- optional: create some nice plots, e.g.: confusion matrix, learning curve, precision-recall curve\n",
    "- optional: analyse dataset (distribution of POS tages, most common words per POS tag, etc.)"
   ]
  },
  {
   "cell_type": "markdown",
   "id": "6919a5db-bfd1-40b7-b69b-ced434d93ddd",
   "metadata": {},
   "source": [
    "**Model**\n",
    "- decision tree: create features for each word (https://nlpforhackers.io/training-pos-tagger/)\n",
    "- LSTM/RNN with word ids based on unique words --> study how LSTM/RNN network works!\n",
    "\n",
    "if tokenization: use spcy en_core_web_sm"
   ]
  },
  {
   "cell_type": "code",
   "execution_count": 410,
   "id": "058a3065-291f-4c5d-9d92-9d4a380df53e",
   "metadata": {},
   "outputs": [
    {
     "name": "stdout",
     "output_type": "stream",
     "text": [
      "The autoreload extension is already loaded. To reload it, use:\n",
      "  %reload_ext autoreload\n"
     ]
    }
   ],
   "source": [
    "%load_ext autoreload\n",
    "%autoreload 2"
   ]
  },
  {
   "cell_type": "code",
   "execution_count": 518,
   "id": "c6e1e430-e29a-487b-b384-d92c859dc7b0",
   "metadata": {},
   "outputs": [],
   "source": [
    "import pandas as pd\n",
    "import numpy as np\n",
    "\n",
    "import spacy\n",
    "#from keras.preprocessing.text import Tokenizer\n",
    "from keras.preprocessing.sequence import pad_sequences\n",
    "#from gensim.models.keyedvectors import load_word2vec_format\n",
    "#from gensim.models import FastText\n",
    "from gensim.models import Word2Vec, KeyedVectors\n",
    "\n",
    "import torch\n",
    "from torch import nn\n",
    "from sklearn.metrics import f1_score\n",
    "\n",
    "from utils import POSDataset, Model, train_eval"
   ]
  },
  {
   "cell_type": "code",
   "execution_count": null,
   "id": "da6014b8-9803-41ad-b943-1a505a597b35",
   "metadata": {},
   "outputs": [],
   "source": [
    "!python -m spacy download en_core_web_sm"
   ]
  },
  {
   "cell_type": "markdown",
   "id": "043954c3-84d9-4a24-843b-08ea1c59a120",
   "metadata": {},
   "source": [
    "## Preprocessing"
   ]
  },
  {
   "cell_type": "markdown",
   "id": "264d47bd-8e38-4875-97c8-ba59a60510d8",
   "metadata": {
    "jp-MarkdownHeadingCollapsed": true,
    "tags": []
   },
   "source": [
    "### Create dataset"
   ]
  },
  {
   "cell_type": "code",
   "execution_count": 413,
   "id": "a7411008-a8d5-4b9c-8c93-42d730665053",
   "metadata": {},
   "outputs": [],
   "source": [
    "with open('train.txt') as f:\n",
    "    train_data = f.readlines()"
   ]
  },
  {
   "cell_type": "code",
   "execution_count": 414,
   "id": "df71d5c9-0bd5-4290-890b-e89a0d1e5a8c",
   "metadata": {},
   "outputs": [],
   "source": [
    "# split dataset into sentences\n",
    "\n",
    "lines = list()\n",
    "lines.append(list()) \n",
    "current_idx = 0\n",
    "\n",
    "for string in train_data:\n",
    "    if string == \"\\n\":\n",
    "        lines.append(list())\n",
    "        current_idx += 1\n",
    "    else:\n",
    "        lines[current_idx].append(string)"
   ]
  },
  {
   "cell_type": "code",
   "execution_count": 415,
   "id": "44b2d526-0333-4bc3-8fd1-8fe173f84ea8",
   "metadata": {},
   "outputs": [
    {
     "name": "stdout",
     "output_type": "stream",
     "text": [
      "Avg. number of words per sentence: 23.7\n",
      "Total number of sentences: 8937\n"
     ]
    }
   ],
   "source": [
    "words_per_line = []\n",
    "for line in lines:\n",
    "    words_per_line.append(len(line))\n",
    "    \n",
    "print(f\"Avg. number of words per sentence: {np.mean(words_per_line):.1f}\")\n",
    "print(f\"Total number of sentences: {len(lines)}\")"
   ]
  },
  {
   "cell_type": "code",
   "execution_count": 416,
   "id": "67fbff8f-205b-4308-b600-3b95b06f824a",
   "metadata": {},
   "outputs": [
    {
     "name": "stdout",
     "output_type": "stream",
     "text": [
      "['Chancellor NNP O\\n', 'of IN B-PP\\n', 'the DT B-NP\\n', 'Exchequer NNP I-NP\\n', 'Nigel NNP B-NP\\n', 'Lawson NNP I-NP\\n', \"'s POS B-NP\\n\", 'restated VBN I-NP\\n', 'commitment NN I-NP\\n', 'to TO B-PP\\n', 'a DT B-NP\\n', 'firm NN I-NP\\n', 'monetary JJ I-NP\\n', 'policy NN I-NP\\n', 'has VBZ B-VP\\n', 'helped VBN I-VP\\n', 'to TO I-VP\\n', 'prevent VB I-VP\\n', 'a DT B-NP\\n', 'freefall NN I-NP\\n', 'in IN B-PP\\n', 'sterling NN B-NP\\n', 'over IN B-PP\\n', 'the DT B-NP\\n', 'past JJ I-NP\\n', 'week NN I-NP\\n', '. . O\\n']\n"
     ]
    }
   ],
   "source": [
    "print(lines[1])"
   ]
  },
  {
   "cell_type": "code",
   "execution_count": 417,
   "id": "0ca0dd69-559c-4d08-ad59-8895f06d82b9",
   "metadata": {},
   "outputs": [],
   "source": [
    "# for each sentence, extract each word and corresponding POS tag\n",
    "\n",
    "text = list()\n",
    "target = list()\n",
    "\n",
    "for line in lines:\n",
    "    words = list()\n",
    "    pos_tags = list()\n",
    "    for string in line:\n",
    "        word, pos, _ = string.split()\n",
    "        words.append(word)\n",
    "        pos_tags.append(pos)\n",
    "    text.append(words)\n",
    "    target.append(pos_tags)"
   ]
  },
  {
   "cell_type": "code",
   "execution_count": 418,
   "id": "7e27adbe-fa21-4b86-addf-a91897cd52fd",
   "metadata": {},
   "outputs": [],
   "source": [
    "df = pd.DataFrame(data={\"text\": text, \"target\": target})"
   ]
  },
  {
   "cell_type": "code",
   "execution_count": 420,
   "id": "c354ae2e-b89a-4bff-87b1-3889921d761e",
   "metadata": {},
   "outputs": [
    {
     "data": {
      "text/html": [
       "<div>\n",
       "<style scoped>\n",
       "    .dataframe tbody tr th:only-of-type {\n",
       "        vertical-align: middle;\n",
       "    }\n",
       "\n",
       "    .dataframe tbody tr th {\n",
       "        vertical-align: top;\n",
       "    }\n",
       "\n",
       "    .dataframe thead th {\n",
       "        text-align: right;\n",
       "    }\n",
       "</style>\n",
       "<table border=\"1\" class=\"dataframe\">\n",
       "  <thead>\n",
       "    <tr style=\"text-align: right;\">\n",
       "      <th></th>\n",
       "      <th>text</th>\n",
       "      <th>target</th>\n",
       "    </tr>\n",
       "  </thead>\n",
       "  <tbody>\n",
       "    <tr>\n",
       "      <th>0</th>\n",
       "      <td>[Confidence, in, the, pound, is, widely, expec...</td>\n",
       "      <td>[NN, IN, DT, NN, VBZ, RB, VBN, TO, VB, DT, JJ,...</td>\n",
       "    </tr>\n",
       "    <tr>\n",
       "      <th>1</th>\n",
       "      <td>[Chancellor, of, the, Exchequer, Nigel, Lawson...</td>\n",
       "      <td>[NNP, IN, DT, NNP, NNP, NNP, POS, VBN, NN, TO,...</td>\n",
       "    </tr>\n",
       "    <tr>\n",
       "      <th>2</th>\n",
       "      <td>[But, analysts, reckon, underlying, support, f...</td>\n",
       "      <td>[CC, NNS, VBP, VBG, NN, IN, NN, VBZ, VBN, VBN,...</td>\n",
       "    </tr>\n",
       "    <tr>\n",
       "      <th>3</th>\n",
       "      <td>[This, has, increased, the, risk, of, the, gov...</td>\n",
       "      <td>[DT, VBZ, VBN, DT, NN, IN, DT, NN, VBG, VBN, T...</td>\n",
       "    </tr>\n",
       "    <tr>\n",
       "      <th>4</th>\n",
       "      <td>[``, The, risks, for, sterling, of, a, bad, tr...</td>\n",
       "      <td>[``, DT, NNS, IN, NN, IN, DT, JJ, NN, NN, VBP,...</td>\n",
       "    </tr>\n",
       "  </tbody>\n",
       "</table>\n",
       "</div>"
      ],
      "text/plain": [
       "                                                text  \\\n",
       "0  [Confidence, in, the, pound, is, widely, expec...   \n",
       "1  [Chancellor, of, the, Exchequer, Nigel, Lawson...   \n",
       "2  [But, analysts, reckon, underlying, support, f...   \n",
       "3  [This, has, increased, the, risk, of, the, gov...   \n",
       "4  [``, The, risks, for, sterling, of, a, bad, tr...   \n",
       "\n",
       "                                              target  \n",
       "0  [NN, IN, DT, NN, VBZ, RB, VBN, TO, VB, DT, JJ,...  \n",
       "1  [NNP, IN, DT, NNP, NNP, NNP, POS, VBN, NN, TO,...  \n",
       "2  [CC, NNS, VBP, VBG, NN, IN, NN, VBZ, VBN, VBN,...  \n",
       "3  [DT, VBZ, VBN, DT, NN, IN, DT, NN, VBG, VBN, T...  \n",
       "4  [``, DT, NNS, IN, NN, IN, DT, JJ, NN, NN, VBP,...  "
      ]
     },
     "execution_count": 420,
     "metadata": {},
     "output_type": "execute_result"
    }
   ],
   "source": [
    "df.head()"
   ]
  },
  {
   "cell_type": "code",
   "execution_count": 421,
   "id": "f99fcd32-ad7c-4e4b-a7f5-3ecae1339cb0",
   "metadata": {},
   "outputs": [],
   "source": [
    "# check if length of X and Y are the same for each sample\n",
    "\n",
    "for idx in range(len(df)):\n",
    "    if len(df[\"text\"].iloc[idx]) != len(df[\"target\"].iloc[idx]):\n",
    "        print(idx)"
   ]
  },
  {
   "cell_type": "markdown",
   "id": "1f27fe82-788b-4cdc-86af-ff21fdcf1845",
   "metadata": {
    "jp-MarkdownHeadingCollapsed": true,
    "tags": []
   },
   "source": [
    "### Targets"
   ]
  },
  {
   "cell_type": "code",
   "execution_count": 422,
   "id": "13cdc8f1-5113-4c57-81c8-fed4134fa777",
   "metadata": {},
   "outputs": [
    {
     "name": "stdout",
     "output_type": "stream",
     "text": [
      "{'DT', 'RBS', 'TO', 'VBG', 'MD', 'POS', ',', 'PRP$', '#', 'SYM', 'PRP', 'UH', 'VBP', 'EX', '(', 'VBN', 'NNP', 'CC', 'WP', 'NNS', 'JJR', 'WRB', '.', 'RP', 'FW', 'WP$', 'CD', 'IN', 'NN', 'JJS', ':', '$', 'RBR', \"''\", 'RB', 'NNPS', 'WDT', ')', '``', 'VBD', 'VB', 'PDT', 'JJ', 'VBZ'}\n"
     ]
    }
   ],
   "source": [
    "# create POS encodings\n",
    "unique_pos_tags = set()\n",
    "for idx in range(len(df)):\n",
    "    for tag in df[\"target\"].iloc[idx]:\n",
    "        if tag not in unique_pos_tags:\n",
    "            unique_pos_tags.add(tag)\n",
    "\n",
    "print(unique_pos_tags)"
   ]
  },
  {
   "cell_type": "code",
   "execution_count": 425,
   "id": "b104053a-cd8c-4e64-a097-d55372e76594",
   "metadata": {},
   "outputs": [
    {
     "name": "stdout",
     "output_type": "stream",
     "text": [
      "{0: 0, 'DT': 1, 'RBS': 2, 'TO': 3, 'VBG': 4, 'MD': 5, 'POS': 6, ',': 7, 'PRP$': 8, '#': 9, 'SYM': 10, 'PRP': 11, 'UH': 12, 'VBP': 13, 'EX': 14, '(': 15, 'VBN': 16, 'NNP': 17, 'CC': 18, 'WP': 19, 'NNS': 20, 'JJR': 21, 'WRB': 22, '.': 23, 'RP': 24, 'FW': 25, 'WP$': 26, 'CD': 27, 'IN': 28, 'NN': 29, 'JJS': 30, ':': 31, '$': 32, 'RBR': 33, \"''\": 34, 'RB': 35, 'NNPS': 36, 'WDT': 37, ')': 38, '``': 39, 'VBD': 40, 'VB': 41, 'PDT': 42, 'JJ': 43, 'VBZ': 44}\n"
     ]
    }
   ],
   "source": [
    "pos2value = dict()\n",
    "pos2value[0] = 0\n",
    "for idx, tag in enumerate(unique_pos_tags):\n",
    "    pos2value[tag] = idx + 1  # because 0 will be padding token in both text and target\n",
    "\n",
    "value2pos = {v: k for k, v in pos2value.items()}\n",
    "\n",
    "print(pos2value)"
   ]
  },
  {
   "cell_type": "code",
   "execution_count": 426,
   "id": "a123c38d-2ce3-4654-a143-f85e72da10ac",
   "metadata": {},
   "outputs": [],
   "source": [
    "targets_encoded = list()\n",
    "for idx in range(len(df)):\n",
    "    target_encoded = list()\n",
    "    for tag in df[\"target\"].iloc[idx]:\n",
    "        target_encoded.append(pos2value[tag])\n",
    "    targets_encoded.append(target_encoded)"
   ]
  },
  {
   "cell_type": "code",
   "execution_count": 428,
   "id": "3888f911-ba36-4803-b979-84b50f1fe687",
   "metadata": {},
   "outputs": [],
   "source": [
    "targets_padded = pad_sequences(targets_encoded, maxlen=max_seq_length, padding='post')\n",
    "targets_padded = [target.tolist() for target in targets_padded]"
   ]
  },
  {
   "cell_type": "code",
   "execution_count": 432,
   "id": "a8f24108-6b45-46e0-953b-b05c419f2903",
   "metadata": {},
   "outputs": [
    {
     "name": "stdout",
     "output_type": "stream",
     "text": [
      "37\n",
      "78\n"
     ]
    }
   ],
   "source": [
    "print(len(targets_encoded[0]))\n",
    "print(len(targets_padded[0]))"
   ]
  },
  {
   "cell_type": "code",
   "execution_count": 433,
   "id": "0df868b8-d511-495a-bfc3-de67e3e6c9d2",
   "metadata": {},
   "outputs": [],
   "source": [
    "df[\"target_encoded\"] = targets_encoded\n",
    "df[\"target_padded\"] = targets_padded"
   ]
  },
  {
   "cell_type": "markdown",
   "id": "6ac915a8-2a40-4ae2-849a-e175ff9837a4",
   "metadata": {
    "jp-MarkdownHeadingCollapsed": true,
    "tags": []
   },
   "source": [
    "### Inputs"
   ]
  },
  {
   "cell_type": "markdown",
   "id": "c0fddd8a-1e94-4f60-9a7b-652f4bf56ba9",
   "metadata": {},
   "source": [
    "#### 1 - Tokenizing + Vocabulary Keras"
   ]
  },
  {
   "cell_type": "code",
   "execution_count": 435,
   "id": "0bbcb449-8204-43cd-9435-3b8e306188db",
   "metadata": {},
   "outputs": [],
   "source": [
    "tokenizer = Tokenizer(filters=\"\")\n",
    "tokenizer.fit_on_texts(text_combined)\n",
    "text_encoded = tokenizer.texts_to_sequences(text)\n",
    "word2value = tokenizer.word_index\n",
    "value2word = {v: k for k, v in word2value.items()}"
   ]
  },
  {
   "cell_type": "code",
   "execution_count": 303,
   "id": "9dc3d9e7-1203-497f-8833-e2499b477012",
   "metadata": {
    "collapsed": true,
    "jupyter": {
     "outputs_hidden": true
    },
    "tags": []
   },
   "outputs": [
    {
     "data": {
      "text/plain": [
       "OrderedDict([('confidence', 15),\n",
       "             ('in', 3807),\n",
       "             ('the', 10714),\n",
       "             ('pound', 14),\n",
       "             ('is', 1422),\n",
       "             ('widely', 22),\n",
       "             ('expected', 114),\n",
       "             ('to', 5080),\n",
       "             ('take', 105),\n",
       "             ('another', 89),\n",
       "             ('sharp', 21),\n",
       "             ('dive', 3),\n",
       "             ('if', 275),\n",
       "             ('trade', 51),\n",
       "             ('figures', 44),\n",
       "             ('for', 1981),\n",
       "             ('september', 53),\n",
       "             (',', 10770),\n",
       "             ('due', 88),\n",
       "             ('release', 13),\n",
       "             ('tomorrow', 8),\n",
       "             ('fail', 4),\n",
       "             ('show', 42),\n",
       "             ('a', 4487),\n",
       "             ('substantial', 18),\n",
       "             ('improvement', 15),\n",
       "             ('from', 1058),\n",
       "             ('july', 34),\n",
       "             ('and', 3702),\n",
       "             ('august', 45),\n",
       "             (\"'s\", 1918),\n",
       "             ('near-record', 2),\n",
       "             ('deficits', 1),\n",
       "             ('.', 8725),\n",
       "             ('chancellor', 13),\n",
       "             ('of', 5223),\n",
       "             ('exchequer', 4),\n",
       "             ('nigel', 4),\n",
       "             ('lawson', 14),\n",
       "             ('restated', 5),\n",
       "             ('commitment', 9),\n",
       "             ('firm', 94),\n",
       "             ('monetary', 22),\n",
       "             ('policy', 87),\n",
       "             ('has', 672),\n",
       "             ('helped', 33),\n",
       "             ('prevent', 13),\n",
       "             ('freefall', 1),\n",
       "             ('sterling', 16),\n",
       "             ('over', 224),\n",
       "             ('past', 95),\n",
       "             ('week', 162),\n",
       "             ('but', 752),\n",
       "             ('analysts', 110),\n",
       "             ('reckon', 1),\n",
       "             ('underlying', 12),\n",
       "             ('support', 52),\n",
       "             ('been', 338),\n",
       "             ('eroded', 3),\n",
       "             ('by', 1016),\n",
       "             ('failure', 24),\n",
       "             ('announce', 8),\n",
       "             ('any', 185),\n",
       "             ('new', 569),\n",
       "             ('measures', 12),\n",
       "             ('his', 358),\n",
       "             ('mansion', 5),\n",
       "             ('house', 121),\n",
       "             ('speech', 7),\n",
       "             ('last', 257),\n",
       "             ('thursday', 31),\n",
       "             ('this', 484),\n",
       "             ('increased', 93),\n",
       "             ('risk', 53),\n",
       "             ('government', 177),\n",
       "             ('being', 100),\n",
       "             ('forced', 21),\n",
       "             ('increase', 107),\n",
       "             ('base', 29),\n",
       "             ('rates', 125),\n",
       "             ('16', 22),\n",
       "             ('%', 1206),\n",
       "             ('their', 449),\n",
       "             ('current', 77),\n",
       "             ('15', 93),\n",
       "             ('level', 57),\n",
       "             ('defend', 5),\n",
       "             ('economists', 28),\n",
       "             ('foreign', 71),\n",
       "             ('exchange', 174),\n",
       "             ('market', 398),\n",
       "             ('say', 147),\n",
       "             ('``', 1503),\n",
       "             ('risks', 15),\n",
       "             ('bad', 26),\n",
       "             ('figure', 27),\n",
       "             ('are', 838),\n",
       "             ('very', 80),\n",
       "             ('heavily', 13),\n",
       "             ('on', 1174),\n",
       "             ('down', 156),\n",
       "             ('side', 18),\n",
       "             (\"''\", 1466),\n",
       "             ('said', 1217),\n",
       "             ('chris', 1),\n",
       "             ('dillow', 3),\n",
       "             ('senior', 34),\n",
       "             ('u.k.', 30),\n",
       "             ('economist', 25),\n",
       "             ('at', 1078),\n",
       "             ('nomura', 4),\n",
       "             ('research', 65),\n",
       "             ('institute', 22),\n",
       "             ('there', 225),\n",
       "             ('number', 75),\n",
       "             ('could', 238),\n",
       "             ('be', 857),\n",
       "             ('an', 738),\n",
       "             ('awful', 5),\n",
       "             ('lot', 57),\n",
       "             ('pressure', 31),\n",
       "             ('noted', 32),\n",
       "             ('simon', 1),\n",
       "             ('briscoe', 2),\n",
       "             ('midland', 4),\n",
       "             ('montagu', 4),\n",
       "             ('unit', 108),\n",
       "             ('bank', 196),\n",
       "             ('plc', 30),\n",
       "             ('forecasts', 11),\n",
       "             ('range', 36),\n",
       "             ('few', 91),\n",
       "             ('expect', 64),\n",
       "             ('data', 48),\n",
       "             ('marked', 4),\n",
       "             ('#', 36),\n",
       "             ('2', 74),\n",
       "             ('billion', 369),\n",
       "             ('-lrb-', 236),\n",
       "             ('$', 1725),\n",
       "             ('3.2', 2),\n",
       "             ('-rrb-', 242),\n",
       "             ('deficit', 11),\n",
       "             ('account', 31),\n",
       "             ('reported', 107),\n",
       "             ('2.2', 9),\n",
       "             ('gap', 6),\n",
       "             ('registered', 10),\n",
       "             ('topped', 5),\n",
       "             ('only', 238),\n",
       "             ('2.3', 7),\n",
       "             ('october', 26),\n",
       "             ('1988', 97),\n",
       "             ('sanjay', 1),\n",
       "             ('joshi', 1),\n",
       "             ('european', 35),\n",
       "             ('baring', 1),\n",
       "             ('brothers', 18),\n",
       "             ('&', 212),\n",
       "             ('co.', 188),\n",
       "             ('no', 156),\n",
       "             ('sign', 22),\n",
       "             ('that', 1901),\n",
       "             ('britain', 24),\n",
       "             ('manufacturing', 34),\n",
       "             ('industry', 118),\n",
       "             ('transforming', 1),\n",
       "             ('itself', 27),\n",
       "             ('boost', 25),\n",
       "             ('exports', 8),\n",
       "             ('same', 78),\n",
       "             ('time', 178),\n",
       "             ('he', 736),\n",
       "             ('remains', 34),\n",
       "             ('fairly', 15),\n",
       "             ('pessimistic', 2),\n",
       "             ('about', 453),\n",
       "             ('outlook', 12),\n",
       "             ('imports', 18),\n",
       "             ('given', 36),\n",
       "             ('continued', 43),\n",
       "             ('high', 94),\n",
       "             ('consumer', 61),\n",
       "             ('capital', 109),\n",
       "             ('goods', 17),\n",
       "             ('inflows', 3),\n",
       "             ('reckons', 4),\n",
       "             ('will', 659),\n",
       "             ('narrow', 8),\n",
       "             ('1.8', 13),\n",
       "             ('however', 84),\n",
       "             ('mr.', 785),\n",
       "             ('believes', 29),\n",
       "             ('reduction', 13),\n",
       "             ('raw', 5),\n",
       "             ('material', 16),\n",
       "             ('stockbuilding', 1),\n",
       "             ('lead', 30),\n",
       "             ('drop', 53),\n",
       "             ('combined', 17),\n",
       "             ('with', 869),\n",
       "             ('least', 75),\n",
       "             ('some', 376),\n",
       "             ('rebound', 8),\n",
       "             ('after', 262),\n",
       "             ('unexpected', 2),\n",
       "             ('decline', 62),\n",
       "             ('as', 972),\n",
       "             ('little', 65),\n",
       "             ('1.3', 10),\n",
       "             ('who', 350),\n",
       "             ('also', 381),\n",
       "             ('warns', 5),\n",
       "             ('even', 153),\n",
       "             ('bullish', 7),\n",
       "             ('currency', 20),\n",
       "             ('wo', 63),\n",
       "             (\"n't\", 752),\n",
       "             ('advance', 15),\n",
       "             ('much', 165),\n",
       "             ('because', 250),\n",
       "             ('investors', 218),\n",
       "             ('want', 80),\n",
       "             ('see', 57),\n",
       "             ('further', 59),\n",
       "             ('evidence', 25),\n",
       "             ('turnaround', 6),\n",
       "             ('before', 118),\n",
       "             ('adjusting', 4),\n",
       "             ('positions', 14),\n",
       "             ('nevertheless', 7),\n",
       "             ('one', 369),\n",
       "             ('go', 73),\n",
       "             ('into', 236),\n",
       "             ('without', 67),\n",
       "             ('flat', 26),\n",
       "             ('position', 47),\n",
       "             ('meanwhile', 42),\n",
       "             ('overall', 19),\n",
       "             ('economy', 60),\n",
       "             ('clouded', 2),\n",
       "             ('warned', 7),\n",
       "             ('slowdown', 18),\n",
       "             ('can', 230),\n",
       "             ('impact', 33),\n",
       "             ('rise', 61),\n",
       "             ('interest', 174),\n",
       "             ('earlier', 148),\n",
       "             ('month', 118),\n",
       "             ('takes', 21),\n",
       "             ('effect', 28),\n",
       "             ('highest', 14),\n",
       "             ('eight', 26),\n",
       "             ('years', 243),\n",
       "             ('expenditure', 2),\n",
       "             ('released', 20),\n",
       "             ('friday', 91),\n",
       "             ('do', 217),\n",
       "             ('suggest', 11),\n",
       "             ('slowing', 13),\n",
       "             ('quickly', 30),\n",
       "             ('spending', 32),\n",
       "             ('rose', 215),\n",
       "             ('0.1', 3),\n",
       "             ('third', 77),\n",
       "             ('quarter', 204),\n",
       "             ('second', 77),\n",
       "             ('was', 890),\n",
       "             ('up', 401),\n",
       "             ('3.8', 5),\n",
       "             ('year', 482),\n",
       "             ('ago', 102),\n",
       "             ('compares', 7),\n",
       "             ('1.6', 14),\n",
       "             ('first', 229),\n",
       "             ('5.4', 4),\n",
       "             ('still', 147),\n",
       "             ('quite', 20),\n",
       "             ('strong', 60),\n",
       "             ('suggestions', 13),\n",
       "             ('went', 34),\n",
       "             ('services', 68),\n",
       "             ('rather', 27),\n",
       "             ('than', 357),\n",
       "             ('should', 89),\n",
       "             ('reduce', 32),\n",
       "             ('fears', 15),\n",
       "             ('more', 437),\n",
       "             ('import', 8),\n",
       "             ('rises', 4),\n",
       "             ('certainly', 14),\n",
       "             ('made', 115),\n",
       "             ('it', 1216),\n",
       "             ('clear', 32),\n",
       "             ('prepared', 14),\n",
       "             ('again', 38),\n",
       "             ('necessary', 14),\n",
       "             ('both', 127),\n",
       "             ('ensure', 7),\n",
       "             ('does', 128),\n",
       "             ('place', 36),\n",
       "             ('reminded', 2),\n",
       "             ('audience', 10),\n",
       "             ('not', 285),\n",
       "             ('allow', 18),\n",
       "             ('rigor', 1),\n",
       "             ('undermined', 2),\n",
       "             ('rate', 129),\n",
       "             ('weakness', 9),\n",
       "             ('agree', 4),\n",
       "             ('holding', 56),\n",
       "             ('moment', 17),\n",
       "             ('other', 358),\n",
       "             ('promise', 19),\n",
       "             ('pushed', 9),\n",
       "             ('higher', 111),\n",
       "             ('they', 568),\n",
       "             ('warn', 2),\n",
       "             ('popularity', 4),\n",
       "             ('swiftly', 4),\n",
       "             ('make', 139),\n",
       "             ('sound', 11),\n",
       "             ('hollow', 2),\n",
       "             ('already', 59),\n",
       "             ('showing', 13),\n",
       "             ('signs', 16),\n",
       "             ('lack', 15),\n",
       "             ('trading', 207),\n",
       "             ('declined', 56),\n",
       "             ('1.5890', 1),\n",
       "             ('2.9495', 1),\n",
       "             ('marks', 22),\n",
       "             ('1.5940', 1),\n",
       "             ('2.9429', 1),\n",
       "             ('late', 70),\n",
       "             ('suggested', 11),\n",
       "             ('falls', 5),\n",
       "             ('below', 38),\n",
       "             ('2.90', 1),\n",
       "             ('halt', 10),\n",
       "             ('balance', 7),\n",
       "             ('unchanged', 20),\n",
       "             ('activity', 29),\n",
       "             ('dollar', 48),\n",
       "             ('posted', 48),\n",
       "             ('gains', 49),\n",
       "             ('quiet', 11),\n",
       "             ('concerns', 26),\n",
       "             ('equities', 6),\n",
       "             ('abated', 1),\n",
       "             ('dealers', 43),\n",
       "             ('begun', 9),\n",
       "             ('distance', 3),\n",
       "             ('volatile', 9),\n",
       "             ('stock', 314),\n",
       "             ('which', 463),\n",
       "             ('preoccupied', 2),\n",
       "             ('since', 129),\n",
       "             ('oct.', 57),\n",
       "             ('13', 34),\n",
       "             ('when', 278),\n",
       "             ('dow', 43),\n",
       "             ('jones', 45),\n",
       "             ('industrial', 45),\n",
       "             ('average', 90),\n",
       "             ('plunged', 11),\n",
       "             ('190', 6),\n",
       "             ('points', 65),\n",
       "             ('predict', 12),\n",
       "             ('coming', 42),\n",
       "             ('shift', 16),\n",
       "             ('its', 758),\n",
       "             ('focus', 17),\n",
       "             ('back', 112),\n",
       "             ('economic', 69),\n",
       "             ('fundamentals', 4),\n",
       "             ('keeping', 10),\n",
       "             ('close', 62),\n",
       "             ('eye', 8),\n",
       "             ('out', 268),\n",
       "             ('easing', 8),\n",
       "             ('u.s.', 272),\n",
       "             ('federal', 200),\n",
       "             ('reserve', 43),\n",
       "             ('york', 212),\n",
       "             ('day', 79),\n",
       "             ('quoted', 11),\n",
       "             ('1.8578', 2),\n",
       "             ('1.8470', 4),\n",
       "             ('changing', 7),\n",
       "             ('hands', 22),\n",
       "             ('142.43', 2),\n",
       "             ('yen', 22),\n",
       "             ('141.70', 4),\n",
       "             ('tokyo', 36),\n",
       "             ('monday', 45),\n",
       "             ('opened', 18),\n",
       "             ('141.95', 1),\n",
       "             ('141.35', 1),\n",
       "             ('commodity', 18),\n",
       "             ('gold', 33),\n",
       "             ('delivery', 16),\n",
       "             ('settled', 12),\n",
       "             ('367.30', 1),\n",
       "             ('ounce', 10),\n",
       "             ('20', 77),\n",
       "             ('cents', 215),\n",
       "             ('estimated', 52),\n",
       "             ('volume', 59),\n",
       "             ('light', 24),\n",
       "             ('2.4', 9),\n",
       "             ('million', 1026),\n",
       "             ('ounces', 7),\n",
       "             ('early', 73),\n",
       "             ('hong', 16),\n",
       "             ('kong', 12),\n",
       "             ('366.50', 1),\n",
       "             ('east', 83),\n",
       "             ('rock', 11),\n",
       "             ('partners', 24),\n",
       "             ('limited', 38),\n",
       "             ('partnership', 20),\n",
       "             ('proposed', 37),\n",
       "             ('acquire', 17),\n",
       "             ('a.p.', 8),\n",
       "             ('green', 11),\n",
       "             ('industries', 50),\n",
       "             ('inc.', 238),\n",
       "             ('40', 46),\n",
       "             ('share', 402),\n",
       "             ('19', 28),\n",
       "             ('letter', 31),\n",
       "             ('board', 126),\n",
       "             ('offer', 73),\n",
       "             ('subject', 22),\n",
       "             ('signing', 2),\n",
       "             ('merger', 26),\n",
       "             ('agreement', 57),\n",
       "             ('later', 47),\n",
       "             ('31', 41),\n",
       "             ('attached', 7),\n",
       "             ('filing', 19),\n",
       "             ('securities', 144),\n",
       "             ('commission', 43),\n",
       "             ('approval', 39),\n",
       "             ('contingent', 2),\n",
       "             ('upon', 12),\n",
       "             ('obtaining', 6),\n",
       "             ('satisfactory', 1),\n",
       "             ('financing', 46),\n",
       "             ('official', 48),\n",
       "             ('comment', 41),\n",
       "             ('40-a-share', 1),\n",
       "             ('proposal', 43),\n",
       "             ('values', 10),\n",
       "             ('company', 519),\n",
       "             ('106.6', 1),\n",
       "             ('currently', 42),\n",
       "             ('2,664,098', 1),\n",
       "             ('shares', 219),\n",
       "             ('outstanding', 38),\n",
       "             ('closed', 79),\n",
       "             ('38', 10),\n",
       "             ('1.875', 2),\n",
       "             ('national', 141),\n",
       "             ('over-the-counter', 16),\n",
       "             ('mexico', 23),\n",
       "             ('mo.', 2),\n",
       "             ('maker', 45),\n",
       "             ('refractory', 2),\n",
       "             ('products', 127),\n",
       "             ('boosted', 12),\n",
       "             ('stake', 61),\n",
       "             ('8.7', 2),\n",
       "             ('now', 199),\n",
       "             ('holds', 17),\n",
       "             ('233,000', 1),\n",
       "             ('common', 60),\n",
       "             ('including', 82),\n",
       "             ('30,000', 2),\n",
       "             ('bought', 37),\n",
       "             ('35.50', 1),\n",
       "             ('36.50', 2),\n",
       "             ('york-based', 7),\n",
       "             ('john', 50),\n",
       "             ('kuhns', 1),\n",
       "             ('robert', 31),\n",
       "             ('macdonald', 1),\n",
       "             ('control', 55),\n",
       "             ('sole', 4),\n",
       "             ('general', 109),\n",
       "             ('partner', 21),\n",
       "             ('l.p', 1),\n",
       "             ('westwood', 4),\n",
       "             ('brick', 4),\n",
       "             ('lime', 1),\n",
       "             ('indirect', 3),\n",
       "             ('subsidiary', 33),\n",
       "             ('group', 212),\n",
       "             ('inc', 39),\n",
       "             ('based', 82),\n",
       "             ('boston', 20),\n",
       "             ('freight', 19),\n",
       "             ('declining', 11),\n",
       "             ('most', 229),\n",
       "             ('decade', 27),\n",
       "             ('competition', 35),\n",
       "             ('spurred', 3),\n",
       "             ('deregulation', 4),\n",
       "             ('bottoming', 2),\n",
       "             ('turning', 7),\n",
       "             ('upward', 7),\n",
       "             ('threatening', 5),\n",
       "             ('fuel', 12),\n",
       "             ('inflation', 70),\n",
       "             ('trucking', 6),\n",
       "             ('shipping', 13),\n",
       "             ('air-freight', 7),\n",
       "             ('companies', 209),\n",
       "             ('have', 685),\n",
       "             ('announced', 36),\n",
       "             ('increases', 33),\n",
       "             ('scheduled', 31),\n",
       "             ('fall', 43),\n",
       "             ('or', 670),\n",
       "             ('next', 130),\n",
       "             ('reflecting', 20),\n",
       "             ('costs', 106),\n",
       "             ('tightened', 2),\n",
       "             ('demand', 49),\n",
       "             ('transport', 10),\n",
       "             ('major', 124),\n",
       "             ('shippers', 11),\n",
       "             ('fast', 9),\n",
       "             ('maybe', 14),\n",
       "             ('faster', 6),\n",
       "             ('big', 120),\n",
       "             ('change', 60),\n",
       "             ('recent', 82),\n",
       "             ('haulage', 1),\n",
       "             ('bright', 4),\n",
       "             ('spot', 10),\n",
       "             ('productivity', 6),\n",
       "             ('helping', 8),\n",
       "             ('restrain', 3),\n",
       "             ('competitive', 10),\n",
       "             ('abroad', 5),\n",
       "             ('caught', 9),\n",
       "             ('supply', 20),\n",
       "             ('certain', 53),\n",
       "             ('types', 20),\n",
       "             ('transportation', 48),\n",
       "             ('starting', 14),\n",
       "             ('move', 59),\n",
       "             ('slightly', 38),\n",
       "             ('clifford', 1),\n",
       "             ('sayre', 1),\n",
       "             ('director', 79),\n",
       "             ('logistics', 2),\n",
       "             ('du', 1),\n",
       "             ('pont', 1),\n",
       "             ('co', 33),\n",
       "             ('surveyed', 4),\n",
       "             ('recently', 45),\n",
       "             ('ohio', 21),\n",
       "             ('state', 166),\n",
       "             ('university', 37),\n",
       "             ('freight-transport', 3),\n",
       "             ('storage', 12),\n",
       "             ('distribution', 10),\n",
       "             ('4', 41),\n",
       "             ('10', 119),\n",
       "             ('250', 7),\n",
       "             ('polled', 2),\n",
       "             ('decrease', 5),\n",
       "             ('compared', 61),\n",
       "             ('30', 100),\n",
       "             ('had', 360),\n",
       "             ('looked', 6),\n",
       "             ('1980', 14),\n",
       "             ('we', 298),\n",
       "             ('such', 217),\n",
       "             ('dramatic', 6),\n",
       "             ('broad-based', 2),\n",
       "             ('upturn', 1),\n",
       "             ('perceived', 5),\n",
       "             ('bernard', 4),\n",
       "             ('lalonde', 2),\n",
       "             ('professor', 13),\n",
       "             ('columbus', 5),\n",
       "             ('railroads', 3),\n",
       "             ('began', 41),\n",
       "             ('enabled', 2),\n",
       "             ('bargain', 5),\n",
       "             ('carriers', 14),\n",
       "             ('use', 66),\n",
       "             ('equipment', 57),\n",
       "             ('efficiently', 2),\n",
       "             ('leading', 27),\n",
       "             ('overcapacity', 2),\n",
       "             ('were', 476),\n",
       "             ('eager', 8),\n",
       "             ('fill', 9),\n",
       "             ('cut', 48),\n",
       "             ('35', 24),\n",
       "             ('annual', 54),\n",
       "             ('inter-city', 1),\n",
       "             ('truck', 12),\n",
       "             ('rail', 9),\n",
       "             ('150', 19),\n",
       "             ('6.4', 7),\n",
       "             ('gross', 16),\n",
       "             ('product', 44),\n",
       "             ('8', 86),\n",
       "             ('gnp', 8),\n",
       "             ('1981', 5),\n",
       "             ('inefficiency', 1),\n",
       "             ('squeezed', 7),\n",
       "             ('system', 74),\n",
       "             ('rising', 21),\n",
       "             ('likely', 70),\n",
       "             ('reflected', 13),\n",
       "             ('directly', 20),\n",
       "             ('saying', 22),\n",
       "             ('`', 28),\n",
       "             ('party', 37),\n",
       "             (\"'\", 158),\n",
       "             ('able', 50),\n",
       "             ('look', 31),\n",
       "             ('transportation-cost', 1),\n",
       "             ('savings', 35),\n",
       "             ('nine', 57),\n",
       "             ('opportunity', 17),\n",
       "             ('offsetting', 3),\n",
       "             ('cost', 82),\n",
       "             ('segments', 6),\n",
       "             ('delaney', 1),\n",
       "             ('consultant', 16),\n",
       "             ('arthur', 7),\n",
       "             ('d.', 31),\n",
       "             ('cambridge', 3),\n",
       "             ('mass.', 20),\n",
       "             (\"'ve\", 38),\n",
       "             ('gotten', 6),\n",
       "             ('all', 271),\n",
       "             ('benefits', 36),\n",
       "             ('freight-cost', 1),\n",
       "             ('reductions', 5),\n",
       "             ('real', 73),\n",
       "             ('freight-rate', 1),\n",
       "             ('replace', 9),\n",
       "             ('pay', 100),\n",
       "             ('labor', 26),\n",
       "             ('you', 196),\n",
       "             (\"'ll\", 29),\n",
       "             ('try', 27),\n",
       "             ('recoup', 1),\n",
       "             ('price', 214),\n",
       "             ('cutting', 7),\n",
       "             ('occurred', 7),\n",
       "             ('previously', 32),\n",
       "             ('everyone', 17),\n",
       "             ('good', 91),\n",
       "             ('times', 65),\n",
       "             ('gerard', 3),\n",
       "             ('mccullough', 1),\n",
       "             ('lecturer', 1),\n",
       "             ('massachusetts', 3),\n",
       "             ('technology', 35),\n",
       "             ('less-than-truckload', 2),\n",
       "             ('carry', 18),\n",
       "             ('several', 92),\n",
       "             ('each', 82),\n",
       "             ('trailer', 2),\n",
       "             ('discounted', 2),\n",
       "             ('away', 41),\n",
       "             ('4.7', 6),\n",
       "             ('implemented', 3),\n",
       "             ('april', 24),\n",
       "             ('competing', 5),\n",
       "             ('fiercely', 3),\n",
       "             ('railroad-rate', 1),\n",
       "             ('restrained', 2),\n",
       "             ('weakening', 2),\n",
       "             ('rail-traffic', 1),\n",
       "             ('levels', 25),\n",
       "             ('keen', 1),\n",
       "             ('trucks', 17),\n",
       "             ('consolidated', 8),\n",
       "             ('freightways', 2),\n",
       "             ('menlo', 3),\n",
       "             ('park', 17),\n",
       "             ('calif.', 36),\n",
       "             ('carrier', 22),\n",
       "             ('discounting', 8),\n",
       "             ('stabilize', 4),\n",
       "             ('plans', 93),\n",
       "             ('raise', 28),\n",
       "             ('5.3', 3),\n",
       "             ('two', 249),\n",
       "             ('competitors', 10),\n",
       "             ('similar', 31),\n",
       "             ('truckers', 1),\n",
       "             ('trying', 42),\n",
       "             ('send', 8),\n",
       "             ('signals', 4),\n",
       "             ('need', 56),\n",
       "             ('stop', 26),\n",
       "             ('bloodletting', 1),\n",
       "             ('forget', 3),\n",
       "             ('michael', 30),\n",
       "             ('lloyd', 3),\n",
       "             ('analyst', 56),\n",
       "             ('salomon', 10),\n",
       "             ('bros', 2),\n",
       "             ('getting', 49),\n",
       "             ('feeling', 3),\n",
       "             ('played', 9),\n",
       "             ('trucker', 1),\n",
       "             ('off', 112),\n",
       "             ('against', 94),\n",
       "             ('raised', 21),\n",
       "             ('going', 76),\n",
       "             ('across', 24),\n",
       "             ('pacific', 57),\n",
       "             ('asia', 5),\n",
       "             ('japan', 43),\n",
       "             ('air', 76),\n",
       "             ('lines', 47),\n",
       "             ('25', 58),\n",
       "             ('total', 62),\n",
       "             ('slow', 18),\n",
       "             ('richard', 22),\n",
       "             ('connors', 1),\n",
       "             ('vice', 77),\n",
       "             ('president', 205),\n",
       "             ('yusen', 2),\n",
       "             ('sea', 6),\n",
       "             ('service', 75),\n",
       "             ('u.s.a.', 3),\n",
       "             ('air-freight-forwarding', 1),\n",
       "             ('nippon', 2),\n",
       "             ('kaisha', 1),\n",
       "             ('ship', 7),\n",
       "             ('carrying', 15),\n",
       "             ('bulk', 11),\n",
       "             ('commodities', 11),\n",
       "             ('oil', 53),\n",
       "             ('grain', 8),\n",
       "             ('coal', 13),\n",
       "             ('iron', 1),\n",
       "             ('ore', 2),\n",
       "             ('couple', 31),\n",
       "             ('3', 60),\n",
       "             ('months', 150),\n",
       "             ('containers', 3),\n",
       "             ('north', 30),\n",
       "             ('atlantic', 14),\n",
       "             ('between', 90),\n",
       "             ('europe', 43),\n",
       "             ('hoping', 3),\n",
       "             ('partly', 17),\n",
       "             ('restore', 11),\n",
       "             ('operating', 74),\n",
       "             ('plan', 112),\n",
       "             ('effective', 10),\n",
       "             ('mgm', 8),\n",
       "             ('grand', 13),\n",
       "             ('filed', 30),\n",
       "             ('registration', 4),\n",
       "             ('statement', 27),\n",
       "             ('public', 66),\n",
       "             ('offering', 56),\n",
       "             ('six', 56),\n",
       "             ('beverly', 3),\n",
       "             ('hills', 4),\n",
       "             ('calif.-based', 2),\n",
       "             ('would', 463),\n",
       "             ('26.9', 1),\n",
       "             ('hotel', 19),\n",
       "             ('gaming', 4),\n",
       "             ('merrill', 21),\n",
       "             ('lynch', 24),\n",
       "             ('markets', 78),\n",
       "             ('underwriters', 6),\n",
       "             ('proceeds', 21),\n",
       "             ('sale', 98),\n",
       "             ('used', 86),\n",
       "             ('remodeling', 1),\n",
       "             ('refurbishing', 1),\n",
       "             ('projects', 18),\n",
       "             ('well', 104),\n",
       "             ('planned', 23),\n",
       "             ('hotel\\\\/casino', 1),\n",
       "             ('theme', 3),\n",
       "             ('bob', 9),\n",
       "             ('stone', 9),\n",
       "             ('stewed', 1),\n",
       "             ('manager', 47),\n",
       "             ('putting', 19),\n",
       "             ('him', 59),\n",
       "             ('probation', 2),\n",
       "             ('insubordination', 1),\n",
       "             ('thought', 38),\n",
       "             ('discipline', 4),\n",
       "             ('unfair', 6),\n",
       "             (';', 243),\n",
       "             ('believed', 13),\n",
       "             ('wanted', 16),\n",
       "             ('get', 113),\n",
       "             ('rid', 6),\n",
       "             ('personal', 50),\n",
       "             ('reasons', 11),\n",
       "             ('unable', 12),\n",
       "             ('persuade', 6),\n",
       "             ('decision', 41),\n",
       "             ('court', 85),\n",
       "             ('hearing', 10),\n",
       "             ('entered', 10),\n",
       "             ('conference', 16),\n",
       "             ('room', 19),\n",
       "             ('building', 76),\n",
       "             ('near', 30),\n",
       "             ('where', 79),\n",
       "             ('worked', 17),\n",
       "             ('three', 127),\n",
       "             ('members', 47),\n",
       "             ('introduced', 14),\n",
       "             ('themselves', 32),\n",
       "             ('chairman', 138),\n",
       "             ('panel', 24),\n",
       "             (':', 314),\n",
       "             ('ahead', 22),\n",
       "             ('tell', 22),\n",
       "             ('us', 40),\n",
       "             ('what', 172),\n",
       "             ('happened', 18),\n",
       "             ('may', 207),\n",
       "             ('ask', 11),\n",
       "             ('questions', 19),\n",
       "             ('along', 42),\n",
       "             ('wait', 12),\n",
       "             ('until', 68),\n",
       "             ('end', 81),\n",
       "             ('lawyers', 25),\n",
       "             ('tape', 9),\n",
       "             ('recorders', 1),\n",
       "             ('present', 11),\n",
       "             ('extra', 20),\n",
       "             ('people', 204),\n",
       "             ('personnel', 22),\n",
       "             ('specialists', 11),\n",
       "             ('whom', 7),\n",
       "             ('knew', 6),\n",
       "             ('case', 56),\n",
       "             ('intimately', 1),\n",
       "             ('help', 79),\n",
       "             ('facts', 6),\n",
       "             ('needed', 23),\n",
       "             ('give', 49),\n",
       "             ('full', 36),\n",
       "             ('picture', 5),\n",
       "             ('cup', 11),\n",
       "             ('coffee', 15),\n",
       "             ('told', 28),\n",
       "             ('story', 23),\n",
       "             ('talked', 4),\n",
       "             ('minutes', 23),\n",
       "             ('through', 136),\n",
       "             ('asked', 22),\n",
       "             ('many', 196),\n",
       "             ('then', 99),\n",
       "             ('like', 132),\n",
       "             ('hear', 10),\n",
       "             ('talk', 19),\n",
       "             ('witnesses', 1),\n",
       "             ('promised', 13),\n",
       "             ('within', 41),\n",
       "             ('weeks', 46),\n",
       "             ('fictional', 1),\n",
       "             ('name', 37),\n",
       "             ('incident', 3),\n",
       "             ('described', 8),\n",
       "             ('northrop', 9),\n",
       "             ('corp.', 267),\n",
       "             ('los', 53),\n",
       "             ('angeles', 44),\n",
       "             ('called', 54),\n",
       "             ('management', 95),\n",
       "             ('appeals', 15),\n",
       "             ('committee', 58),\n",
       "             ('just', 133),\n",
       "             ('mac', 11),\n",
       "             ('dozen', 12),\n",
       "             ('cases', 39),\n",
       "             ('alter', 5),\n",
       "             ('details', 13),\n",
       "             ('example', 53),\n",
       "             ('taking', 21),\n",
       "             ('today', 66),\n",
       "             ('express', 30),\n",
       "             ('memphis', 2),\n",
       "             ('defense', 26),\n",
       "             ('underseas', 1),\n",
       "             ('systems', 44),\n",
       "             ('divisions', 5),\n",
       "             ('honeywell', 2),\n",
       "             ('minneapolis', 5),\n",
       "             ('electric', 14),\n",
       "             ('plant', 58),\n",
       "             ('columbia', 31),\n",
       "             ('md.', 3),\n",
       "             ('these', 128),\n",
       "             ('firms', 55),\n",
       "             ('pioneers', 2),\n",
       "             ('significant', 31),\n",
       "             ('trend', 11),\n",
       "             ('corporate', 68),\n",
       "             ('world', 72),\n",
       "             ('i', 323),\n",
       "             ('call', 35),\n",
       "             ('process', 29),\n",
       "             ('although', 67),\n",
       "             ('practiced', 2),\n",
       "             ('--', 438),\n",
       "             ('perhaps', 21),\n",
       "             ('60', 33),\n",
       "             ('fastest', 1),\n",
       "             ('developing', 9),\n",
       "             ('trends', 8),\n",
       "             ('majority', 33),\n",
       "             ('people-oriented', 1),\n",
       "             ('adopt', 4),\n",
       "             ('variety', 7),\n",
       "             ('reduces', 7),\n",
       "             ('lawsuits', 5),\n",
       "             ('disgruntled', 3),\n",
       "             ('employees', 62),\n",
       "             ('ex-employees', 1),\n",
       "             ('means', 30),\n",
       "             ('reduced', 23),\n",
       "             ('legal', 26),\n",
       "             ('better', 42),\n",
       "             ('relations', 10),\n",
       "             ('helps', 5),\n",
       "             ('keep', 36),\n",
       "             ('unions', 3),\n",
       "             ('employee', 17),\n",
       "             ('efficiency', 5),\n",
       "             ('quality', 23),\n",
       "             ('must', 51),\n",
       "             ('your', 64),\n",
       "             ('team', 24),\n",
       "             ('establish', 10),\n",
       "             ('?', 86),\n",
       "             ('here', 61),\n",
       "             ('four', 55),\n",
       "             ('key', 26),\n",
       "             ('steps', 17),\n",
       "             ('1', 142),\n",
       "             ('sure', 25),\n",
       "             ('department', 81),\n",
       "             ('handle', 15),\n",
       "             ('complaints', 11),\n",
       "             ('solved', 1),\n",
       "             ('trenches', 1),\n",
       "             ('managers', 41),\n",
       "             ('subordinates', 2),\n",
       "             ('else', 16),\n",
       "             ('adjudicators', 2),\n",
       "             ('inundated', 3),\n",
       "             ('polaroid', 1),\n",
       "             ('planning', 21),\n",
       "             ('rest', 33),\n",
       "             ('hundreds', 21),\n",
       "             ('resolved', 3),\n",
       "             ('stages', 2),\n",
       "             ('twa', 1),\n",
       "             ('adjustment', 6),\n",
       "             ('hears', 2),\n",
       "             ('50', 85),\n",
       "             ('75', 32),\n",
       "             ('fraction', 4),\n",
       "             ('brought', 23),\n",
       "             ('citicorp', 14),\n",
       "             ('problem', 53),\n",
       "             ('review', 12),\n",
       "             ('12', 59),\n",
       "             ('so', 167),\n",
       "             ('skill', 2),\n",
       "             ('complaint-resolution', 1),\n",
       "             ('typical', 7),\n",
       "             ('work', 97),\n",
       "             ('force', 41),\n",
       "             ('goes', 17),\n",
       "             ('treatment', 11),\n",
       "             ('large', 55),\n",
       "             ('formally', 8),\n",
       "             ('informally', 2),\n",
       "             ('train', 10),\n",
       "             ...])"
      ]
     },
     "execution_count": 303,
     "metadata": {},
     "output_type": "execute_result"
    }
   ],
   "source": [
    "# tokenizer.word_counts"
   ]
  },
  {
   "cell_type": "code",
   "execution_count": 437,
   "id": "65c20b08-0a0f-4e86-8317-ba8db3d8a964",
   "metadata": {},
   "outputs": [
    {
     "name": "stdout",
     "output_type": "stream",
     "text": [
      "Median sentence length 23.0\n",
      "Max sentence length 78\n"
     ]
    }
   ],
   "source": [
    "sentence_lengths = [len(df[\"text\"].iloc[idx]) for idx in range(len(df))]\n",
    "max_seq_length = max(sentence_lengths)\n",
    "print(\"Median sentence length\", np.median(sentence_lengths))\n",
    "print(\"Max sentence length\", max_seq_length)"
   ]
  },
  {
   "cell_type": "code",
   "execution_count": 438,
   "id": "e4b13cb9-6536-4845-8ae6-980093fb753b",
   "metadata": {},
   "outputs": [],
   "source": [
    "texts_padded = pad_sequences(text_encoded, maxlen=max_seq_length, padding='post')\n",
    "texts_padded = [text.tolist() for text in texts_padded]"
   ]
  },
  {
   "cell_type": "code",
   "execution_count": 439,
   "id": "1d21b44e-6203-446b-80ff-dc34e830c075",
   "metadata": {},
   "outputs": [],
   "source": [
    "df[\"text_encoded\"] = text_encoded\n",
    "df[\"text_padded\"] = texts_padded"
   ]
  },
  {
   "cell_type": "code",
   "execution_count": 440,
   "id": "9e3208f3-9fd2-4288-97ad-cbbf994fdca7",
   "metadata": {},
   "outputs": [
    {
     "name": "stdout",
     "output_type": "stream",
     "text": [
      "37\n",
      "78\n"
     ]
    }
   ],
   "source": [
    "print(len(text_encoded[0]))\n",
    "print(len(texts_padded[0]))"
   ]
  },
  {
   "cell_type": "code",
   "execution_count": 441,
   "id": "0d432e59-32c6-4e3d-b232-c91d3ed4b8e8",
   "metadata": {},
   "outputs": [],
   "source": [
    "for idx in range(len(df)):\n",
    "    if len(df[\"text_padded\"].iloc[idx]) != len(df[\"target_padded\"].iloc[idx]):\n",
    "        print(idx)"
   ]
  },
  {
   "cell_type": "code",
   "execution_count": 442,
   "id": "405e54e3-e51a-4025-858d-3206e52424ee",
   "metadata": {
    "tags": []
   },
   "outputs": [
    {
     "data": {
      "text/html": [
       "<div>\n",
       "<style scoped>\n",
       "    .dataframe tbody tr th:only-of-type {\n",
       "        vertical-align: middle;\n",
       "    }\n",
       "\n",
       "    .dataframe tbody tr th {\n",
       "        vertical-align: top;\n",
       "    }\n",
       "\n",
       "    .dataframe thead th {\n",
       "        text-align: right;\n",
       "    }\n",
       "</style>\n",
       "<table border=\"1\" class=\"dataframe\">\n",
       "  <thead>\n",
       "    <tr style=\"text-align: right;\">\n",
       "      <th></th>\n",
       "      <th>text</th>\n",
       "      <th>target</th>\n",
       "      <th>target_encoded</th>\n",
       "      <th>target_padded</th>\n",
       "      <th>text_encoded</th>\n",
       "      <th>text_padded</th>\n",
       "    </tr>\n",
       "  </thead>\n",
       "  <tbody>\n",
       "    <tr>\n",
       "      <th>0</th>\n",
       "      <td>[Confidence, in, the, pound, is, widely, expec...</td>\n",
       "      <td>[NN, IN, DT, NN, VBZ, RB, VBN, TO, VB, DT, JJ,...</td>\n",
       "      <td>[29, 28, 1, 29, 44, 35, 16, 3, 41, 1, 43, 29, ...</td>\n",
       "      <td>[29, 28, 1, 29, 44, 35, 16, 3, 41, 1, 43, 29, ...</td>\n",
       "      <td>[1536, 7, 2, 1637, 15, 1106, 184, 5, 207, 246,...</td>\n",
       "      <td>[1536, 7, 2, 1637, 15, 1106, 184, 5, 207, 246,...</td>\n",
       "    </tr>\n",
       "    <tr>\n",
       "      <th>1</th>\n",
       "      <td>[Chancellor, of, the, Exchequer, Nigel, Lawson...</td>\n",
       "      <td>[NNP, IN, DT, NNP, NNP, NNP, POS, VBN, NN, TO,...</td>\n",
       "      <td>[17, 28, 1, 17, 17, 17, 6, 16, 29, 3, 1, 29, 4...</td>\n",
       "      <td>[17, 28, 1, 17, 17, 17, 6, 16, 29, 3, 1, 29, 4...</td>\n",
       "      <td>[1751, 4, 2, 4172, 4173, 1638, 10, 3568, 2350,...</td>\n",
       "      <td>[1751, 4, 2, 4172, 4173, 1638, 10, 3568, 2350,...</td>\n",
       "    </tr>\n",
       "    <tr>\n",
       "      <th>2</th>\n",
       "      <td>[But, analysts, reckon, underlying, support, f...</td>\n",
       "      <td>[CC, NNS, VBP, VBG, NN, IN, NN, VBZ, VBN, VBN,...</td>\n",
       "      <td>[18, 20, 13, 4, 29, 28, 29, 44, 16, 16, 28, 1,...</td>\n",
       "      <td>[18, 20, 13, 4, 29, 28, 29, 44, 16, 16, 28, 1,...</td>\n",
       "      <td>[31, 195, 8937, 1891, 474, 9, 1456, 36, 64, 49...</td>\n",
       "      <td>[31, 195, 8937, 1891, 474, 9, 1456, 36, 64, 49...</td>\n",
       "    </tr>\n",
       "    <tr>\n",
       "      <th>3</th>\n",
       "      <td>[This, has, increased, the, risk, of, the, gov...</td>\n",
       "      <td>[DT, VBZ, VBN, DT, NN, IN, DT, NN, VBG, VBN, T...</td>\n",
       "      <td>[1, 44, 16, 1, 29, 28, 1, 29, 4, 16, 3, 41, 29...</td>\n",
       "      <td>[1, 44, 16, 1, 29, 28, 1, 29, 4, 16, 3, 41, 29...</td>\n",
       "      <td>[42, 36, 234, 2, 462, 4, 2, 122, 216, 1147, 5,...</td>\n",
       "      <td>[42, 36, 234, 2, 462, 4, 2, 122, 216, 1147, 5,...</td>\n",
       "    </tr>\n",
       "    <tr>\n",
       "      <th>4</th>\n",
       "      <td>[``, The, risks, for, sterling, of, a, bad, tr...</td>\n",
       "      <td>[``, DT, NNS, IN, NN, IN, DT, JJ, NN, NN, VBP,...</td>\n",
       "      <td>[39, 1, 20, 28, 29, 28, 1, 43, 29, 29, 13, 35,...</td>\n",
       "      <td>[39, 1, 20, 28, 29, 28, 1, 43, 29, 29, 13, 35,...</td>\n",
       "      <td>[13, 2, 1538, 9, 1456, 4, 6, 948, 481, 912, 28...</td>\n",
       "      <td>[13, 2, 1538, 9, 1456, 4, 6, 948, 481, 912, 28...</td>\n",
       "    </tr>\n",
       "  </tbody>\n",
       "</table>\n",
       "</div>"
      ],
      "text/plain": [
       "                                                text  \\\n",
       "0  [Confidence, in, the, pound, is, widely, expec...   \n",
       "1  [Chancellor, of, the, Exchequer, Nigel, Lawson...   \n",
       "2  [But, analysts, reckon, underlying, support, f...   \n",
       "3  [This, has, increased, the, risk, of, the, gov...   \n",
       "4  [``, The, risks, for, sterling, of, a, bad, tr...   \n",
       "\n",
       "                                              target  \\\n",
       "0  [NN, IN, DT, NN, VBZ, RB, VBN, TO, VB, DT, JJ,...   \n",
       "1  [NNP, IN, DT, NNP, NNP, NNP, POS, VBN, NN, TO,...   \n",
       "2  [CC, NNS, VBP, VBG, NN, IN, NN, VBZ, VBN, VBN,...   \n",
       "3  [DT, VBZ, VBN, DT, NN, IN, DT, NN, VBG, VBN, T...   \n",
       "4  [``, DT, NNS, IN, NN, IN, DT, JJ, NN, NN, VBP,...   \n",
       "\n",
       "                                      target_encoded  \\\n",
       "0  [29, 28, 1, 29, 44, 35, 16, 3, 41, 1, 43, 29, ...   \n",
       "1  [17, 28, 1, 17, 17, 17, 6, 16, 29, 3, 1, 29, 4...   \n",
       "2  [18, 20, 13, 4, 29, 28, 29, 44, 16, 16, 28, 1,...   \n",
       "3  [1, 44, 16, 1, 29, 28, 1, 29, 4, 16, 3, 41, 29...   \n",
       "4  [39, 1, 20, 28, 29, 28, 1, 43, 29, 29, 13, 35,...   \n",
       "\n",
       "                                       target_padded  \\\n",
       "0  [29, 28, 1, 29, 44, 35, 16, 3, 41, 1, 43, 29, ...   \n",
       "1  [17, 28, 1, 17, 17, 17, 6, 16, 29, 3, 1, 29, 4...   \n",
       "2  [18, 20, 13, 4, 29, 28, 29, 44, 16, 16, 28, 1,...   \n",
       "3  [1, 44, 16, 1, 29, 28, 1, 29, 4, 16, 3, 41, 29...   \n",
       "4  [39, 1, 20, 28, 29, 28, 1, 43, 29, 29, 13, 35,...   \n",
       "\n",
       "                                        text_encoded  \\\n",
       "0  [1536, 7, 2, 1637, 15, 1106, 184, 5, 207, 246,...   \n",
       "1  [1751, 4, 2, 4172, 4173, 1638, 10, 3568, 2350,...   \n",
       "2  [31, 195, 8937, 1891, 474, 9, 1456, 36, 64, 49...   \n",
       "3  [42, 36, 234, 2, 462, 4, 2, 122, 216, 1147, 5,...   \n",
       "4  [13, 2, 1538, 9, 1456, 4, 6, 948, 481, 912, 28...   \n",
       "\n",
       "                                         text_padded  \n",
       "0  [1536, 7, 2, 1637, 15, 1106, 184, 5, 207, 246,...  \n",
       "1  [1751, 4, 2, 4172, 4173, 1638, 10, 3568, 2350,...  \n",
       "2  [31, 195, 8937, 1891, 474, 9, 1456, 36, 64, 49...  \n",
       "3  [42, 36, 234, 2, 462, 4, 2, 122, 216, 1147, 5,...  \n",
       "4  [13, 2, 1538, 9, 1456, 4, 6, 948, 481, 912, 28...  "
      ]
     },
     "execution_count": 442,
     "metadata": {},
     "output_type": "execute_result"
    }
   ],
   "source": [
    "df.head()"
   ]
  },
  {
   "cell_type": "markdown",
   "id": "db3b8476-f3ba-4744-9fb5-55309baf7640",
   "metadata": {
    "jp-MarkdownHeadingCollapsed": true,
    "tags": []
   },
   "source": [
    "#### 2 - Tokenizing + Vocabulary Custom"
   ]
  },
  {
   "cell_type": "code",
   "execution_count": 212,
   "id": "cbc77d19-4fa8-4d48-bd67-a2f02fd77eab",
   "metadata": {},
   "outputs": [],
   "source": [
    "text = list()\n",
    "for idx in range(len(df)):\n",
    "    text.append([word.lower() for word in df[\"text\"].iloc[idx]])\n",
    "text_combined = [word for sentence in text for word in sentence]"
   ]
  },
  {
   "cell_type": "code",
   "execution_count": 214,
   "id": "74e91a1a-a2db-4460-b682-c2ef529ac2a6",
   "metadata": {},
   "outputs": [],
   "source": [
    "df[\"text_lower\"] = text"
   ]
  },
  {
   "cell_type": "code",
   "execution_count": 195,
   "id": "466faa6b-b93c-4bfd-bba8-e2ff1a16b727",
   "metadata": {},
   "outputs": [
    {
     "name": "stdout",
     "output_type": "stream",
     "text": [
      "17258\n"
     ]
    }
   ],
   "source": [
    "# create vocabulary based on unique words and IDs\n",
    "\n",
    "unique_words = set()\n",
    "for idx in range(len(df)):\n",
    "    for word in df[\"text\"].iloc[idx]:\n",
    "        if word.lower() not in unique_words:\n",
    "            unique_words.add(word.lower())\n",
    "\n",
    "print(len(unique_tokens))\n",
    "\n",
    "word2value = dict()\n",
    "for idx, word in enumerate(unique_words):\n",
    "    word2value[word] = idx"
   ]
  },
  {
   "cell_type": "code",
   "execution_count": 164,
   "id": "6f48c846-9923-4706-8e30-5c790f064b47",
   "metadata": {},
   "outputs": [],
   "source": [
    "texts_encoded = list()\n",
    "for idx in range(len(df)):\n",
    "    text_encoded = list()\n",
    "    for word in df[\"text\"].iloc[idx]:\n",
    "        text_encoded.append(word2value[word.lower()])\n",
    "    texts_encoded.append(text_encoded)"
   ]
  },
  {
   "cell_type": "code",
   "execution_count": 165,
   "id": "3139ebdb-44a2-464b-ac8d-772a232c8c91",
   "metadata": {
    "tags": []
   },
   "outputs": [],
   "source": [
    "df[\"text_encoded\"] = texts_encoded"
   ]
  },
  {
   "cell_type": "markdown",
   "id": "4ebd1773-f092-4c41-b4a7-a84e9ffc7428",
   "metadata": {},
   "source": [
    "#### Word Embeddings"
   ]
  },
  {
   "cell_type": "markdown",
   "id": "c59cbbd0-c78b-415d-ba30-356e0c77942a",
   "metadata": {},
   "source": [
    "##### 1 - downloaded word2vec"
   ]
  },
  {
   "cell_type": "code",
   "execution_count": 296,
   "id": "5640e364-2b0c-4e69-8665-4eb3ba719c59",
   "metadata": {},
   "outputs": [],
   "source": [
    "word2vec = load_word2vec_format(\"/home/hkortschak/Repositories/commonlit_kaggle/xund/GoogleNews-vectors-negative300.bin\", binary=True)"
   ]
  },
  {
   "cell_type": "code",
   "execution_count": 297,
   "id": "3a6e5a2c-ed30-422f-9086-134fd851cdd0",
   "metadata": {},
   "outputs": [],
   "source": [
    "embedding_size = 300\n",
    "vocabulary_size = len(word2value) + 1"
   ]
  },
  {
   "cell_type": "code",
   "execution_count": 308,
   "id": "e62575f3-df13-4ee3-be94-4de8955f55e7",
   "metadata": {
    "tags": []
   },
   "outputs": [
    {
     "name": "stdout",
     "output_type": "stream",
     "text": [
      "4808\n"
     ]
    }
   ],
   "source": [
    "embedding_weights = np.zeros((vocabulary_size, embedding_size))\n",
    "count = 0\n",
    "for word, idx in word2value.items():\n",
    "    try: \n",
    "        embedding_weights[idx] = word2vec[word]\n",
    "    except KeyError:\n",
    "        count += 1\n",
    "        # print(word, tokenizer.word_counts[word])\n",
    "print(count)"
   ]
  },
  {
   "cell_type": "code",
   "execution_count": 309,
   "id": "d32c6ad3-5f1c-4fb6-96f4-65981a3ec73c",
   "metadata": {},
   "outputs": [],
   "source": [
    "embedding_weights = torch.tensor(embedding_weights)"
   ]
  },
  {
   "cell_type": "markdown",
   "id": "3c894231-b1ed-4865-862e-d4a876365020",
   "metadata": {
    "jp-MarkdownHeadingCollapsed": true,
    "tags": []
   },
   "source": [
    "##### 2 - gensim word2vec"
   ]
  },
  {
   "cell_type": "code",
   "execution_count": 220,
   "id": "8b7588e3-1bca-4689-8ef2-f94e6c991ac0",
   "metadata": {},
   "outputs": [],
   "source": [
    "word2vec_model = Word2Vec(sentences=df[\"text_lower\"], vector_size=100, window=5, min_count=1, workers=4)\n",
    "word_vectors = word2vec_model.wv\n",
    "# word_vectors.save(\"word2vec.wordvectors\")"
   ]
  },
  {
   "cell_type": "code",
   "execution_count": 233,
   "id": "a8b9b4c3-0fb8-402f-904e-fdd13931f222",
   "metadata": {},
   "outputs": [
    {
     "name": "stdout",
     "output_type": "stream",
     "text": [
      "[('peters', 0.9969028830528259), ('she', 0.9968954920768738), ('suit', 0.9968575835227966), ('himself', 0.9968065023422241), ('bush', 0.9967989921569824), ('decision', 0.9967637658119202), ('saw', 0.9967111349105835), ('great', 0.9965247511863708), ('deloitte', 0.9962803721427917), ('whole', 0.9959662556648254)]\n"
     ]
    }
   ],
   "source": [
    "vector = word2vec_model.wv['man']  # get numpy vector of a word\n",
    "sims = word2vec_model.wv.most_similar('man', topn=10)  # get other similar words\n",
    "print(sims)"
   ]
  },
  {
   "cell_type": "code",
   "execution_count": 236,
   "id": "a47fd631-9420-4acf-b53c-c0813b9f70d3",
   "metadata": {},
   "outputs": [],
   "source": [
    "word_vectors = KeyedVectors.load(\"word2vec.wordvectors\", mmap='r')"
   ]
  },
  {
   "cell_type": "markdown",
   "id": "0edd869b-bdae-4f4b-8bd5-4ee8fd226850",
   "metadata": {
    "jp-MarkdownHeadingCollapsed": true,
    "tags": []
   },
   "source": [
    "### Split dataset"
   ]
  },
  {
   "cell_type": "code",
   "execution_count": 443,
   "id": "01f54ca2-35ec-41f7-be00-a159bb3ebefe",
   "metadata": {},
   "outputs": [
    {
     "data": {
      "text/plain": [
       "8937"
      ]
     },
     "execution_count": 443,
     "metadata": {},
     "output_type": "execute_result"
    }
   ],
   "source": [
    "len(df)"
   ]
  },
  {
   "cell_type": "code",
   "execution_count": 445,
   "id": "7607e768-6f6d-4dce-9709-f2df165da54f",
   "metadata": {},
   "outputs": [
    {
     "name": "stdout",
     "output_type": "stream",
     "text": [
      "8044 893\n"
     ]
    }
   ],
   "source": [
    "df = df.sample(frac=1, random_state=0).reset_index(drop=True)\n",
    "num_train_samples = int(len(df) * 0.9) + 1\n",
    "num_valid_samples = int(len(df) * 0.1)\n",
    "print(num_train_samples, num_valid_samples)"
   ]
  },
  {
   "cell_type": "code",
   "execution_count": 446,
   "id": "cda5bcc1-9dc8-4ff9-b466-b7e418cc6dba",
   "metadata": {},
   "outputs": [],
   "source": [
    "train_df = df[:num_train_samples]\n",
    "valid_df = df[num_train_samples:]"
   ]
  },
  {
   "cell_type": "code",
   "execution_count": 516,
   "id": "51c09681-e101-4842-bb29-ee27a879d079",
   "metadata": {},
   "outputs": [],
   "source": [
    "train_X = train_df[\"text_padded\"]\n",
    "train_Y = train_df[\"target_padded\"]\n",
    "train_Y_unpadded = train_df[\"target_encoded\"]\n",
    "\n",
    "valid_X = valid_df[\"text_padded\"]\n",
    "valid_Y = valid_df[\"target_padded\"]\n",
    "valid_Y_unpadded = valid_df[\"target_encoded\"]"
   ]
  },
  {
   "cell_type": "markdown",
   "id": "1b75d411-d676-4b37-8398-efb8cf47a01f",
   "metadata": {
    "tags": []
   },
   "source": [
    "### Data Loader"
   ]
  },
  {
   "cell_type": "code",
   "execution_count": 517,
   "id": "158bab6f-8435-4426-bfaa-658946a06c25",
   "metadata": {},
   "outputs": [],
   "source": [
    "train_ds = POSDataset(train_X, train_Y, train_Y_unpadded)\n",
    "valid_ds = POSDataset(valid_X, valid_Y, valid_Y_unpadded)"
   ]
  },
  {
   "cell_type": "code",
   "execution_count": 498,
   "id": "406c079c-97c8-4e82-8bba-8bac1d50acc9",
   "metadata": {},
   "outputs": [],
   "source": [
    "train_dl = DataLoader(train_ds, batch_size=12)\n",
    "valid_dl = DataLoader(valid_ds, batch_size=12)"
   ]
  },
  {
   "cell_type": "markdown",
   "id": "afd19fbf-550e-451a-bac2-97c7556c91e8",
   "metadata": {},
   "source": [
    "### Model"
   ]
  },
  {
   "cell_type": "markdown",
   "id": "9560d203-7d96-4daf-b8d0-4d160638905d",
   "metadata": {
    "tags": []
   },
   "source": [
    "#### Try out model"
   ]
  },
  {
   "cell_type": "code",
   "execution_count": 481,
   "id": "c5927474-7342-44ab-8031-7fb1ec322f89",
   "metadata": {},
   "outputs": [],
   "source": [
    "model = Model(\n",
    "    input_size=max_seq_length, \n",
    "    output_size=len(pos2value), \n",
    "    hidden_dim=64, \n",
    "    n_layers=1, \n",
    "    embedding_weights=embedding_weights, \n",
    "    embedding_size=300\n",
    ").double()"
   ]
  },
  {
   "cell_type": "code",
   "execution_count": 482,
   "id": "4f8217f3-c56a-47fd-be5b-7f76bdb52117",
   "metadata": {},
   "outputs": [
    {
     "name": "stdout",
     "output_type": "stream",
     "text": [
      "['Although', 'air-traffic', 'delays', 'in', 'San', 'Francisco', 'were', 'significant', 'yesterday', ',', 'they', 'did', \"n't\", 'appear', 'to', 'spread', 'to', 'other', 'airports', '.']\n",
      "torch.Size([1, 78])\n",
      "torch.int64\n"
     ]
    }
   ],
   "source": [
    "print(train_df[\"text\"].iloc[1])\n",
    "input_ = train_df[\"text_padded\"].iloc[1] # (max_seq_length)\n",
    "input_ = torch.tensor(input_, dtype=torch.long).unsqueeze(0)\n",
    "print(input_.shape)\n",
    "print(input_.dtype)"
   ]
  },
  {
   "cell_type": "code",
   "execution_count": 483,
   "id": "cd364a76-7a7d-40f1-b55d-47ab31564189",
   "metadata": {},
   "outputs": [
    {
     "name": "stdout",
     "output_type": "stream",
     "text": [
      "Input torch.Size([1, 78])\n",
      "Embedding torch.Size([1, 78, 300])\n",
      "RNN Output torch.Size([1, 78, 64])\n",
      "TDD Input torch.Size([1, 1, 78, 64])\n",
      "TDD Output torch.Size([1, 45, 78, 1])\n",
      "Return torch.Size([1, 45, 78])\n"
     ]
    }
   ],
   "source": [
    "output = model(input_)"
   ]
  },
  {
   "cell_type": "code",
   "execution_count": 484,
   "id": "22aeb70b-425a-492b-887f-b037d9f00c91",
   "metadata": {},
   "outputs": [
    {
     "name": "stdout",
     "output_type": "stream",
     "text": [
      "torch.Size([78])\n"
     ]
    }
   ],
   "source": [
    "cls_output = torch.argmax(output, dim=1).squeeze(0)\n",
    "print(cls_output.shape)"
   ]
  },
  {
   "cell_type": "code",
   "execution_count": 489,
   "id": "6d5b8499-9bdb-42f3-a95d-934232bd1dce",
   "metadata": {},
   "outputs": [
    {
     "name": "stdout",
     "output_type": "stream",
     "text": [
      "[28, 29, 20, 28, 17, 17, 40, 43, 29, 7, 11, 40, 35, 41, 3, 41, 3, 43, 20, 23, 0, 0, 0, 0, 0, 0, 0, 0, 0, 0, 0, 0, 0, 0, 0, 0, 0, 0, 0, 0, 0, 0, 0, 0, 0, 0, 0, 0, 0, 0, 0, 0, 0, 0, 0, 0, 0, 0, 0, 0, 0, 0, 0, 0, 0, 0, 0, 0, 0, 0, 0, 0, 0, 0, 0, 0, 0, 0]\n",
      "tensor([42, 42, 37, 15, 15,  7, 15, 29, 37, 40, 42, 15, 17, 15, 40, 38, 40, 37,\n",
      "        15, 15, 37, 37, 37, 37, 37, 37, 37, 37, 37, 37, 37, 37, 37, 37, 37, 37,\n",
      "        37, 37, 37, 37, 37, 37, 37, 37, 37, 37, 37, 37, 37, 37, 37, 37, 37, 37,\n",
      "        37, 37, 37, 37, 37, 37, 37, 37, 37, 37, 37, 37, 37, 37, 37, 37, 37, 37,\n",
      "        37, 37, 37, 37, 37, 37])\n"
     ]
    }
   ],
   "source": [
    "print(train_df[\"target_padded\"].iloc[1])\n",
    "print(cls_output)"
   ]
  },
  {
   "cell_type": "code",
   "execution_count": 515,
   "id": "eb271000-a00d-45d6-8683-8884e8d1b504",
   "metadata": {},
   "outputs": [
    {
     "name": "stdout",
     "output_type": "stream",
     "text": [
      "[28 29 20 28 17 17 40 43 29  7 11 40 35 41  3 41  3 43 20 23]\n",
      "[42 42 37 15 15  7 15 29 37 40 42 15 17 15 40 38 40 37 15 15]\n",
      "0.0\n"
     ]
    }
   ],
   "source": [
    "classes = list(value2pos.keys())\n",
    "\n",
    "target = np.array(train_df[\"target_encoded\"].iloc[1])\n",
    "pred = np.array(cls_output[:len(target)])\n",
    "\n",
    "print(target)\n",
    "print(pred)\n",
    "\n",
    "f1 = f1_score(target, pred, labels=classes, average=\"micro\")\n",
    "print(f1)\n",
    "#for cls in classes[1:]: # don't take adding class into account\n",
    "#    target_cls = np.where(target == cls, target, 0)\n",
    "#    pred_cls = np.where(pred == cls, pred, 0)\n",
    "#    #print(target_cls)\n",
    "#    #print(pred_cls)\n",
    "#    f1 = f1_score(target_cls, pred_cls)\n",
    "#    print(f1)\n",
    "##f1_score(y_true, y_pred, *, labels=None, pos_label=1, average='binary', "
   ]
  },
  {
   "cell_type": "markdown",
   "id": "511bbb65-8e12-4559-ae3a-eecec23e5058",
   "metadata": {},
   "source": [
    "### Training Loop"
   ]
  },
  {
   "cell_type": "code",
   "execution_count": 526,
   "id": "a4928658-fd97-473a-86b0-51a68ccde016",
   "metadata": {},
   "outputs": [
    {
     "ename": "RuntimeError",
     "evalue": "CUDA error: all CUDA-capable devices are busy or unavailable\nCUDA kernel errors might be asynchronously reported at some other API call,so the stacktrace below might be incorrect.\nFor debugging consider passing CUDA_LAUNCH_BLOCKING=1.",
     "output_type": "error",
     "traceback": [
      "\u001b[0;31m---------------------------------------------------------------------------\u001b[0m",
      "\u001b[0;31mRuntimeError\u001b[0m                              Traceback (most recent call last)",
      "\u001b[0;32m/tmp/ipykernel_65256/65975992.py\u001b[0m in \u001b[0;36m<module>\u001b[0;34m\u001b[0m\n\u001b[1;32m      1\u001b[0m \u001b[0mtorch\u001b[0m\u001b[0;34m.\u001b[0m\u001b[0mcuda\u001b[0m\u001b[0;34m.\u001b[0m\u001b[0mis_available\u001b[0m\u001b[0;34m(\u001b[0m\u001b[0;34m)\u001b[0m\u001b[0;34m\u001b[0m\u001b[0;34m\u001b[0m\u001b[0m\n\u001b[1;32m      2\u001b[0m \u001b[0mdevice\u001b[0m \u001b[0;34m=\u001b[0m \u001b[0mtorch\u001b[0m\u001b[0;34m.\u001b[0m\u001b[0mdevice\u001b[0m\u001b[0;34m(\u001b[0m\u001b[0;34m\"cuda\"\u001b[0m\u001b[0;34m)\u001b[0m\u001b[0;34m\u001b[0m\u001b[0;34m\u001b[0m\u001b[0m\n\u001b[0;32m----> 3\u001b[0;31m \u001b[0mtorch\u001b[0m\u001b[0;34m.\u001b[0m\u001b[0mtensor\u001b[0m\u001b[0;34m(\u001b[0m\u001b[0;34m[\u001b[0m\u001b[0;36m1\u001b[0m\u001b[0;34m,\u001b[0m \u001b[0;36m2\u001b[0m\u001b[0;34m,\u001b[0m \u001b[0;36m3\u001b[0m\u001b[0;34m]\u001b[0m\u001b[0;34m)\u001b[0m\u001b[0;34m.\u001b[0m\u001b[0mto\u001b[0m\u001b[0;34m(\u001b[0m\u001b[0mdevice\u001b[0m\u001b[0;34m)\u001b[0m\u001b[0;34m\u001b[0m\u001b[0;34m\u001b[0m\u001b[0m\n\u001b[0m",
      "\u001b[0;31mRuntimeError\u001b[0m: CUDA error: all CUDA-capable devices are busy or unavailable\nCUDA kernel errors might be asynchronously reported at some other API call,so the stacktrace below might be incorrect.\nFor debugging consider passing CUDA_LAUNCH_BLOCKING=1."
     ]
    }
   ],
   "source": [
    "torch.cuda.is_available()\n",
    "device = torch.device(\"cuda\")\n",
    "torch.tensor([1, 2, 3]).to(device)"
   ]
  },
  {
   "cell_type": "code",
   "execution_count": 519,
   "id": "d15fdb73-888c-4fad-9bf3-ce4144e2adca",
   "metadata": {},
   "outputs": [
    {
     "ename": "RuntimeError",
     "evalue": "CUDA error: all CUDA-capable devices are busy or unavailable\nCUDA kernel errors might be asynchronously reported at some other API call,so the stacktrace below might be incorrect.\nFor debugging consider passing CUDA_LAUNCH_BLOCKING=1.",
     "output_type": "error",
     "traceback": [
      "\u001b[0;31m---------------------------------------------------------------------------\u001b[0m",
      "\u001b[0;31mRuntimeError\u001b[0m                              Traceback (most recent call last)",
      "\u001b[0;32m/tmp/ipykernel_65256/622951782.py\u001b[0m in \u001b[0;36m<module>\u001b[0;34m\u001b[0m\n\u001b[0;32m----> 1\u001b[0;31m train_eval(\n\u001b[0m\u001b[1;32m      2\u001b[0m     \u001b[0mtrain_dataloader\u001b[0m\u001b[0;34m=\u001b[0m\u001b[0mtrain_dl\u001b[0m\u001b[0;34m,\u001b[0m\u001b[0;34m\u001b[0m\u001b[0;34m\u001b[0m\u001b[0m\n\u001b[1;32m      3\u001b[0m     \u001b[0mvalid_dataloader\u001b[0m\u001b[0;34m=\u001b[0m\u001b[0mvalid_dl\u001b[0m\u001b[0;34m,\u001b[0m\u001b[0;34m\u001b[0m\u001b[0;34m\u001b[0m\u001b[0m\n\u001b[1;32m      4\u001b[0m     \u001b[0mclasses\u001b[0m\u001b[0;34m=\u001b[0m\u001b[0mclasses\u001b[0m\u001b[0;34m,\u001b[0m\u001b[0;34m\u001b[0m\u001b[0;34m\u001b[0m\u001b[0m\n\u001b[1;32m      5\u001b[0m     \u001b[0mmodel\u001b[0m\u001b[0;34m=\u001b[0m\u001b[0mmodel\u001b[0m\u001b[0;34m,\u001b[0m\u001b[0;34m\u001b[0m\u001b[0;34m\u001b[0m\u001b[0m\n",
      "\u001b[0;32m~/Repositories/commonlit_kaggle/xund/utils.py\u001b[0m in \u001b[0;36mtrain_eval\u001b[0;34m(train_dataloader, valid_dataloader, classes, model, num_epochs, learning_rate, weight_decay, device)\u001b[0m\n\u001b[1;32m     76\u001b[0m         \u001b[0mweight_decay\u001b[0m\u001b[0;34m=\u001b[0m\u001b[0mweight_decay\u001b[0m\u001b[0;34m\u001b[0m\u001b[0;34m\u001b[0m\u001b[0m\n\u001b[1;32m     77\u001b[0m         )\n\u001b[0;32m---> 78\u001b[0;31m     \u001b[0mmodel\u001b[0m \u001b[0;34m=\u001b[0m \u001b[0mmodel\u001b[0m\u001b[0;34m.\u001b[0m\u001b[0mto\u001b[0m\u001b[0;34m(\u001b[0m\u001b[0mdevice\u001b[0m\u001b[0;34m)\u001b[0m\u001b[0;34m\u001b[0m\u001b[0;34m\u001b[0m\u001b[0m\n\u001b[0m\u001b[1;32m     79\u001b[0m     \u001b[0mloss_func\u001b[0m \u001b[0;34m=\u001b[0m \u001b[0mnn\u001b[0m\u001b[0;34m.\u001b[0m\u001b[0mCrossEntropyLoss\u001b[0m\u001b[0;34m(\u001b[0m\u001b[0;34m)\u001b[0m\u001b[0;34m\u001b[0m\u001b[0;34m\u001b[0m\u001b[0m\n\u001b[1;32m     80\u001b[0m \u001b[0;34m\u001b[0m\u001b[0m\n",
      "\u001b[0;32m~/Repositories/commonlit_kaggle/nlp-env/lib/python3.8/site-packages/torch/nn/modules/module.py\u001b[0m in \u001b[0;36mto\u001b[0;34m(self, *args, **kwargs)\u001b[0m\n\u001b[1;32m    897\u001b[0m             \u001b[0;32mreturn\u001b[0m \u001b[0mt\u001b[0m\u001b[0;34m.\u001b[0m\u001b[0mto\u001b[0m\u001b[0;34m(\u001b[0m\u001b[0mdevice\u001b[0m\u001b[0;34m,\u001b[0m \u001b[0mdtype\u001b[0m \u001b[0;32mif\u001b[0m \u001b[0mt\u001b[0m\u001b[0;34m.\u001b[0m\u001b[0mis_floating_point\u001b[0m\u001b[0;34m(\u001b[0m\u001b[0;34m)\u001b[0m \u001b[0;32mor\u001b[0m \u001b[0mt\u001b[0m\u001b[0;34m.\u001b[0m\u001b[0mis_complex\u001b[0m\u001b[0;34m(\u001b[0m\u001b[0;34m)\u001b[0m \u001b[0;32melse\u001b[0m \u001b[0;32mNone\u001b[0m\u001b[0;34m,\u001b[0m \u001b[0mnon_blocking\u001b[0m\u001b[0;34m)\u001b[0m\u001b[0;34m\u001b[0m\u001b[0;34m\u001b[0m\u001b[0m\n\u001b[1;32m    898\u001b[0m \u001b[0;34m\u001b[0m\u001b[0m\n\u001b[0;32m--> 899\u001b[0;31m         \u001b[0;32mreturn\u001b[0m \u001b[0mself\u001b[0m\u001b[0;34m.\u001b[0m\u001b[0m_apply\u001b[0m\u001b[0;34m(\u001b[0m\u001b[0mconvert\u001b[0m\u001b[0;34m)\u001b[0m\u001b[0;34m\u001b[0m\u001b[0;34m\u001b[0m\u001b[0m\n\u001b[0m\u001b[1;32m    900\u001b[0m \u001b[0;34m\u001b[0m\u001b[0m\n\u001b[1;32m    901\u001b[0m     def register_backward_hook(\n",
      "\u001b[0;32m~/Repositories/commonlit_kaggle/nlp-env/lib/python3.8/site-packages/torch/nn/modules/module.py\u001b[0m in \u001b[0;36m_apply\u001b[0;34m(self, fn)\u001b[0m\n\u001b[1;32m    568\u001b[0m     \u001b[0;32mdef\u001b[0m \u001b[0m_apply\u001b[0m\u001b[0;34m(\u001b[0m\u001b[0mself\u001b[0m\u001b[0;34m,\u001b[0m \u001b[0mfn\u001b[0m\u001b[0;34m)\u001b[0m\u001b[0;34m:\u001b[0m\u001b[0;34m\u001b[0m\u001b[0;34m\u001b[0m\u001b[0m\n\u001b[1;32m    569\u001b[0m         \u001b[0;32mfor\u001b[0m \u001b[0mmodule\u001b[0m \u001b[0;32min\u001b[0m \u001b[0mself\u001b[0m\u001b[0;34m.\u001b[0m\u001b[0mchildren\u001b[0m\u001b[0;34m(\u001b[0m\u001b[0;34m)\u001b[0m\u001b[0;34m:\u001b[0m\u001b[0;34m\u001b[0m\u001b[0;34m\u001b[0m\u001b[0m\n\u001b[0;32m--> 570\u001b[0;31m             \u001b[0mmodule\u001b[0m\u001b[0;34m.\u001b[0m\u001b[0m_apply\u001b[0m\u001b[0;34m(\u001b[0m\u001b[0mfn\u001b[0m\u001b[0;34m)\u001b[0m\u001b[0;34m\u001b[0m\u001b[0;34m\u001b[0m\u001b[0m\n\u001b[0m\u001b[1;32m    571\u001b[0m \u001b[0;34m\u001b[0m\u001b[0m\n\u001b[1;32m    572\u001b[0m         \u001b[0;32mdef\u001b[0m \u001b[0mcompute_should_use_set_data\u001b[0m\u001b[0;34m(\u001b[0m\u001b[0mtensor\u001b[0m\u001b[0;34m,\u001b[0m \u001b[0mtensor_applied\u001b[0m\u001b[0;34m)\u001b[0m\u001b[0;34m:\u001b[0m\u001b[0;34m\u001b[0m\u001b[0;34m\u001b[0m\u001b[0m\n",
      "\u001b[0;32m~/Repositories/commonlit_kaggle/nlp-env/lib/python3.8/site-packages/torch/nn/modules/module.py\u001b[0m in \u001b[0;36m_apply\u001b[0;34m(self, fn)\u001b[0m\n\u001b[1;32m    591\u001b[0m             \u001b[0;31m# `with torch.no_grad():`\u001b[0m\u001b[0;34m\u001b[0m\u001b[0;34m\u001b[0m\u001b[0;34m\u001b[0m\u001b[0m\n\u001b[1;32m    592\u001b[0m             \u001b[0;32mwith\u001b[0m \u001b[0mtorch\u001b[0m\u001b[0;34m.\u001b[0m\u001b[0mno_grad\u001b[0m\u001b[0;34m(\u001b[0m\u001b[0;34m)\u001b[0m\u001b[0;34m:\u001b[0m\u001b[0;34m\u001b[0m\u001b[0;34m\u001b[0m\u001b[0m\n\u001b[0;32m--> 593\u001b[0;31m                 \u001b[0mparam_applied\u001b[0m \u001b[0;34m=\u001b[0m \u001b[0mfn\u001b[0m\u001b[0;34m(\u001b[0m\u001b[0mparam\u001b[0m\u001b[0;34m)\u001b[0m\u001b[0;34m\u001b[0m\u001b[0;34m\u001b[0m\u001b[0m\n\u001b[0m\u001b[1;32m    594\u001b[0m             \u001b[0mshould_use_set_data\u001b[0m \u001b[0;34m=\u001b[0m \u001b[0mcompute_should_use_set_data\u001b[0m\u001b[0;34m(\u001b[0m\u001b[0mparam\u001b[0m\u001b[0;34m,\u001b[0m \u001b[0mparam_applied\u001b[0m\u001b[0;34m)\u001b[0m\u001b[0;34m\u001b[0m\u001b[0;34m\u001b[0m\u001b[0m\n\u001b[1;32m    595\u001b[0m             \u001b[0;32mif\u001b[0m \u001b[0mshould_use_set_data\u001b[0m\u001b[0;34m:\u001b[0m\u001b[0;34m\u001b[0m\u001b[0;34m\u001b[0m\u001b[0m\n",
      "\u001b[0;32m~/Repositories/commonlit_kaggle/nlp-env/lib/python3.8/site-packages/torch/nn/modules/module.py\u001b[0m in \u001b[0;36mconvert\u001b[0;34m(t)\u001b[0m\n\u001b[1;32m    895\u001b[0m                 return t.to(device, dtype if t.is_floating_point() or t.is_complex() else None,\n\u001b[1;32m    896\u001b[0m                             non_blocking, memory_format=convert_to_format)\n\u001b[0;32m--> 897\u001b[0;31m             \u001b[0;32mreturn\u001b[0m \u001b[0mt\u001b[0m\u001b[0;34m.\u001b[0m\u001b[0mto\u001b[0m\u001b[0;34m(\u001b[0m\u001b[0mdevice\u001b[0m\u001b[0;34m,\u001b[0m \u001b[0mdtype\u001b[0m \u001b[0;32mif\u001b[0m \u001b[0mt\u001b[0m\u001b[0;34m.\u001b[0m\u001b[0mis_floating_point\u001b[0m\u001b[0;34m(\u001b[0m\u001b[0;34m)\u001b[0m \u001b[0;32mor\u001b[0m \u001b[0mt\u001b[0m\u001b[0;34m.\u001b[0m\u001b[0mis_complex\u001b[0m\u001b[0;34m(\u001b[0m\u001b[0;34m)\u001b[0m \u001b[0;32melse\u001b[0m \u001b[0;32mNone\u001b[0m\u001b[0;34m,\u001b[0m \u001b[0mnon_blocking\u001b[0m\u001b[0;34m)\u001b[0m\u001b[0;34m\u001b[0m\u001b[0;34m\u001b[0m\u001b[0m\n\u001b[0m\u001b[1;32m    898\u001b[0m \u001b[0;34m\u001b[0m\u001b[0m\n\u001b[1;32m    899\u001b[0m         \u001b[0;32mreturn\u001b[0m \u001b[0mself\u001b[0m\u001b[0;34m.\u001b[0m\u001b[0m_apply\u001b[0m\u001b[0;34m(\u001b[0m\u001b[0mconvert\u001b[0m\u001b[0;34m)\u001b[0m\u001b[0;34m\u001b[0m\u001b[0;34m\u001b[0m\u001b[0m\n",
      "\u001b[0;31mRuntimeError\u001b[0m: CUDA error: all CUDA-capable devices are busy or unavailable\nCUDA kernel errors might be asynchronously reported at some other API call,so the stacktrace below might be incorrect.\nFor debugging consider passing CUDA_LAUNCH_BLOCKING=1."
     ]
    }
   ],
   "source": [
    "train_eval(\n",
    "    train_dataloader=train_dl, \n",
    "    valid_dataloader=valid_dl, \n",
    "    classes=classes,\n",
    "    model=model,\n",
    "    num_epochs=5,\n",
    "    learning_rate=0.001,\n",
    "    weight_decay=1e-8,\n",
    "    device=torch.device(\"cuda\")\n",
    ")"
   ]
  },
  {
   "cell_type": "code",
   "execution_count": null,
   "id": "9e5b5172-07b4-441d-9c60-89757f4c3d00",
   "metadata": {},
   "outputs": [],
   "source": []
  }
 ],
 "metadata": {
  "kernelspec": {
   "display_name": "Python 3 (ipykernel)",
   "language": "python",
   "name": "python3"
  },
  "language_info": {
   "codemirror_mode": {
    "name": "ipython",
    "version": 3
   },
   "file_extension": ".py",
   "mimetype": "text/x-python",
   "name": "python",
   "nbconvert_exporter": "python",
   "pygments_lexer": "ipython3",
   "version": "3.8.10"
  }
 },
 "nbformat": 4,
 "nbformat_minor": 5
}
