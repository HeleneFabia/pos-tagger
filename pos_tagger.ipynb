{
 "cells": [
  {
   "cell_type": "markdown",
   "id": "0ef03e42-8062-475f-81ab-2da3b6e1c444",
   "metadata": {},
   "source": [
    "# Training and Evaluating a POS Tagger"
   ]
  },
  {
   "cell_type": "markdown",
   "id": "8e045bb0-5606-4c4f-9aa1-454f8f9dcbe2",
   "metadata": {},
   "source": [
    "**Goal**\n",
    "- assign POS tag to each word\n",
    "    - x = first column of conll, y = second column of conll\n",
    "\n",
    "**Plan**\n",
    "- preprocess data\n",
    "    - numerical classes bsed on unique POS tags\n",
    "    - encoded strings (look at ways to do that)\n",
    "- decide on model (have to be able to explain it!)\n",
    "- train and evaluation loop\n",
    "- pick appropriate metric (F1! precision? recall?)\n",
    "- optional: create some nice plots, e.g.: confusion matrix, learning curve, precision-recall curve\n",
    "- optional: analyse dataset (distribution of POS tages, most common words per POS tag, etc.)"
   ]
  },
  {
   "cell_type": "markdown",
   "id": "6919a5db-bfd1-40b7-b69b-ced434d93ddd",
   "metadata": {},
   "source": [
    "**Model**\n",
    "- decision tree: create features for each word (https://nlpforhackers.io/training-pos-tagger/)\n",
    "- LSTM/RNN with word ids based on unique words --> study how LSTM/RNN network works!\n",
    "\n",
    "if tokenization: use spcy en_core_web_sm"
   ]
  },
  {
   "cell_type": "code",
   "execution_count": 61,
   "id": "c6e1e430-e29a-487b-b384-d92c859dc7b0",
   "metadata": {},
   "outputs": [],
   "source": [
    "import pandas as pd\n",
    "import spacy"
   ]
  },
  {
   "cell_type": "markdown",
   "id": "043954c3-84d9-4a24-843b-08ea1c59a120",
   "metadata": {},
   "source": [
    "## Preprocessing"
   ]
  },
  {
   "cell_type": "code",
   "execution_count": 48,
   "id": "a7411008-a8d5-4b9c-8c93-42d730665053",
   "metadata": {},
   "outputs": [],
   "source": [
    "with open('train.txt') as f:\n",
    "    train_data = f.readlines()"
   ]
  },
  {
   "cell_type": "code",
   "execution_count": 49,
   "id": "df71d5c9-0bd5-4290-890b-e89a0d1e5a8c",
   "metadata": {},
   "outputs": [],
   "source": [
    "# split dataset into sentences\n",
    "\n",
    "lines = list()\n",
    "lines.append(list()) \n",
    "current_idx = 0\n",
    "\n",
    "for string in train_data:\n",
    "    if string == \"\\n\":\n",
    "        lines.append(list())\n",
    "        current_idx += 1\n",
    "    else:\n",
    "        lines[current_idx].append(string)"
   ]
  },
  {
   "cell_type": "code",
   "execution_count": 54,
   "id": "67fbff8f-205b-4308-b600-3b95b06f824a",
   "metadata": {},
   "outputs": [
    {
     "data": {
      "text/plain": [
       "['Chancellor NNP O\\n',\n",
       " 'of IN B-PP\\n',\n",
       " 'the DT B-NP\\n',\n",
       " 'Exchequer NNP I-NP\\n',\n",
       " 'Nigel NNP B-NP\\n',\n",
       " 'Lawson NNP I-NP\\n',\n",
       " \"'s POS B-NP\\n\",\n",
       " 'restated VBN I-NP\\n',\n",
       " 'commitment NN I-NP\\n',\n",
       " 'to TO B-PP\\n',\n",
       " 'a DT B-NP\\n',\n",
       " 'firm NN I-NP\\n',\n",
       " 'monetary JJ I-NP\\n',\n",
       " 'policy NN I-NP\\n',\n",
       " 'has VBZ B-VP\\n',\n",
       " 'helped VBN I-VP\\n',\n",
       " 'to TO I-VP\\n',\n",
       " 'prevent VB I-VP\\n',\n",
       " 'a DT B-NP\\n',\n",
       " 'freefall NN I-NP\\n',\n",
       " 'in IN B-PP\\n',\n",
       " 'sterling NN B-NP\\n',\n",
       " 'over IN B-PP\\n',\n",
       " 'the DT B-NP\\n',\n",
       " 'past JJ I-NP\\n',\n",
       " 'week NN I-NP\\n',\n",
       " '. . O\\n']"
      ]
     },
     "execution_count": 54,
     "metadata": {},
     "output_type": "execute_result"
    }
   ],
   "source": [
    "lines[1]"
   ]
  },
  {
   "cell_type": "code",
   "execution_count": 26,
   "id": "0ca0dd69-559c-4d08-ad59-8895f06d82b9",
   "metadata": {},
   "outputs": [],
   "source": [
    "# for each sentence, extract each word and corresponding POS tag\n",
    "\n",
    "text = list()\n",
    "target = list()\n",
    "\n",
    "for line in lines:\n",
    "    words = list()\n",
    "    pos_tags = list()\n",
    "    for string in line:\n",
    "        word, pos, _ = string.split()\n",
    "        words.append(word)\n",
    "        pos_tags.append(pos)\n",
    "    text.append(words)\n",
    "    target.append(pos_tags)"
   ]
  },
  {
   "cell_type": "code",
   "execution_count": 34,
   "id": "7e27adbe-fa21-4b86-addf-a91897cd52fd",
   "metadata": {},
   "outputs": [],
   "source": [
    "df = pd.DataFrame(data={\"text\": text, \"target\": target})"
   ]
  },
  {
   "cell_type": "code",
   "execution_count": 36,
   "id": "c354ae2e-b89a-4bff-87b1-3889921d761e",
   "metadata": {},
   "outputs": [
    {
     "data": {
      "text/html": [
       "<div>\n",
       "<style scoped>\n",
       "    .dataframe tbody tr th:only-of-type {\n",
       "        vertical-align: middle;\n",
       "    }\n",
       "\n",
       "    .dataframe tbody tr th {\n",
       "        vertical-align: top;\n",
       "    }\n",
       "\n",
       "    .dataframe thead th {\n",
       "        text-align: right;\n",
       "    }\n",
       "</style>\n",
       "<table border=\"1\" class=\"dataframe\">\n",
       "  <thead>\n",
       "    <tr style=\"text-align: right;\">\n",
       "      <th></th>\n",
       "      <th>text</th>\n",
       "      <th>target</th>\n",
       "    </tr>\n",
       "  </thead>\n",
       "  <tbody>\n",
       "    <tr>\n",
       "      <th>0</th>\n",
       "      <td>[Confidence, in, the, pound, is, widely, expec...</td>\n",
       "      <td>[NN, IN, DT, NN, VBZ, RB, VBN, TO, VB, DT, JJ,...</td>\n",
       "    </tr>\n",
       "    <tr>\n",
       "      <th>1</th>\n",
       "      <td>[Chancellor, of, the, Exchequer, Nigel, Lawson...</td>\n",
       "      <td>[NNP, IN, DT, NNP, NNP, NNP, POS, VBN, NN, TO,...</td>\n",
       "    </tr>\n",
       "    <tr>\n",
       "      <th>2</th>\n",
       "      <td>[But, analysts, reckon, underlying, support, f...</td>\n",
       "      <td>[CC, NNS, VBP, VBG, NN, IN, NN, VBZ, VBN, VBN,...</td>\n",
       "    </tr>\n",
       "    <tr>\n",
       "      <th>3</th>\n",
       "      <td>[This, has, increased, the, risk, of, the, gov...</td>\n",
       "      <td>[DT, VBZ, VBN, DT, NN, IN, DT, NN, VBG, VBN, T...</td>\n",
       "    </tr>\n",
       "    <tr>\n",
       "      <th>4</th>\n",
       "      <td>[``, The, risks, for, sterling, of, a, bad, tr...</td>\n",
       "      <td>[``, DT, NNS, IN, NN, IN, DT, JJ, NN, NN, VBP,...</td>\n",
       "    </tr>\n",
       "    <tr>\n",
       "      <th>5</th>\n",
       "      <td>[``, If, there, is, another, bad, trade, numbe...</td>\n",
       "      <td>[``, IN, EX, VBZ, DT, JJ, NN, NN, ,, EX, MD, V...</td>\n",
       "    </tr>\n",
       "    <tr>\n",
       "      <th>6</th>\n",
       "      <td>[Forecasts, for, the, trade, figures, range, w...</td>\n",
       "      <td>[NNS, IN, DT, NN, NNS, VBP, RB, ,, CC, JJ, NNS...</td>\n",
       "    </tr>\n",
       "    <tr>\n",
       "      <th>7</th>\n",
       "      <td>[The, August, deficit, and, the, #, 2.2, billi...</td>\n",
       "      <td>[DT, NNP, NN, CC, DT, #, CD, CD, NN, VBN, IN, ...</td>\n",
       "    </tr>\n",
       "    <tr>\n",
       "      <th>8</th>\n",
       "      <td>[Sanjay, Joshi, ,, European, economist, at, Ba...</td>\n",
       "      <td>[NNP, NNP, ,, JJ, NN, IN, NNP, NNPS, CC, NNP, ...</td>\n",
       "    </tr>\n",
       "    <tr>\n",
       "      <th>9</th>\n",
       "      <td>[At, the, same, time, ,, he, remains, fairly, ...</td>\n",
       "      <td>[IN, DT, JJ, NN, ,, PRP, VBZ, RB, JJ, IN, DT, ...</td>\n",
       "    </tr>\n",
       "  </tbody>\n",
       "</table>\n",
       "</div>"
      ],
      "text/plain": [
       "                                                text  \\\n",
       "0  [Confidence, in, the, pound, is, widely, expec...   \n",
       "1  [Chancellor, of, the, Exchequer, Nigel, Lawson...   \n",
       "2  [But, analysts, reckon, underlying, support, f...   \n",
       "3  [This, has, increased, the, risk, of, the, gov...   \n",
       "4  [``, The, risks, for, sterling, of, a, bad, tr...   \n",
       "5  [``, If, there, is, another, bad, trade, numbe...   \n",
       "6  [Forecasts, for, the, trade, figures, range, w...   \n",
       "7  [The, August, deficit, and, the, #, 2.2, billi...   \n",
       "8  [Sanjay, Joshi, ,, European, economist, at, Ba...   \n",
       "9  [At, the, same, time, ,, he, remains, fairly, ...   \n",
       "\n",
       "                                              target  \n",
       "0  [NN, IN, DT, NN, VBZ, RB, VBN, TO, VB, DT, JJ,...  \n",
       "1  [NNP, IN, DT, NNP, NNP, NNP, POS, VBN, NN, TO,...  \n",
       "2  [CC, NNS, VBP, VBG, NN, IN, NN, VBZ, VBN, VBN,...  \n",
       "3  [DT, VBZ, VBN, DT, NN, IN, DT, NN, VBG, VBN, T...  \n",
       "4  [``, DT, NNS, IN, NN, IN, DT, JJ, NN, NN, VBP,...  \n",
       "5  [``, IN, EX, VBZ, DT, JJ, NN, NN, ,, EX, MD, V...  \n",
       "6  [NNS, IN, DT, NN, NNS, VBP, RB, ,, CC, JJ, NNS...  \n",
       "7  [DT, NNP, NN, CC, DT, #, CD, CD, NN, VBN, IN, ...  \n",
       "8  [NNP, NNP, ,, JJ, NN, IN, NNP, NNPS, CC, NNP, ...  \n",
       "9  [IN, DT, JJ, NN, ,, PRP, VBZ, RB, JJ, IN, DT, ...  "
      ]
     },
     "execution_count": 36,
     "metadata": {},
     "output_type": "execute_result"
    }
   ],
   "source": [
    "df.head(10)"
   ]
  },
  {
   "cell_type": "code",
   "execution_count": 57,
   "id": "f99fcd32-ad7c-4e4b-a7f5-3ecae1339cb0",
   "metadata": {},
   "outputs": [],
   "source": [
    "# check if length of X and Y are the same for each sample\n",
    "\n",
    "for idx in range(len(df)):\n",
    "    if len(df[\"text\"].iloc[idx]) != len(df[\"target\"].iloc[idx]):\n",
    "        print(idx)"
   ]
  },
  {
   "cell_type": "code",
   "execution_count": 59,
   "id": "13cdc8f1-5113-4c57-81c8-fed4134fa777",
   "metadata": {},
   "outputs": [
    {
     "name": "stdout",
     "output_type": "stream",
     "text": [
      "{'DT', 'RBS', 'TO', 'VBG', 'MD', 'POS', ',', 'PRP$', '#', 'SYM', 'PRP', 'UH', 'VBP', 'EX', '(', 'VBN', 'NNP', 'CC', 'WP', 'NNS', 'JJR', 'WRB', '.', 'RP', 'FW', 'WP$', 'CD', 'IN', 'NN', 'JJS', ':', '$', 'RBR', \"''\", 'RB', 'NNPS', 'WDT', ')', '``', 'VBD', 'VB', 'PDT', 'JJ', 'VBZ'}\n"
     ]
    }
   ],
   "source": [
    "# create POS encodings\n",
    "unique_pos_tags = set()\n",
    "for idx in range(len(df)):\n",
    "    for tag in df[\"target\"].iloc[idx]:\n",
    "        if tag not in unique_pos_tags:\n",
    "            unique_pos_tags.add(tag)\n",
    "\n",
    "print(unique_pos_tags)"
   ]
  },
  {
   "cell_type": "code",
   "execution_count": 60,
   "id": "b104053a-cd8c-4e64-a097-d55372e76594",
   "metadata": {},
   "outputs": [
    {
     "name": "stdout",
     "output_type": "stream",
     "text": [
      "{0: 'DT', 1: 'RBS', 2: 'TO', 3: 'VBG', 4: 'MD', 5: 'POS', 6: ',', 7: 'PRP$', 8: '#', 9: 'SYM', 10: 'PRP', 11: 'UH', 12: 'VBP', 13: 'EX', 14: '(', 15: 'VBN', 16: 'NNP', 17: 'CC', 18: 'WP', 19: 'NNS', 20: 'JJR', 21: 'WRB', 22: '.', 23: 'RP', 24: 'FW', 25: 'WP$', 26: 'CD', 27: 'IN', 28: 'NN', 29: 'JJS', 30: ':', 31: '$', 32: 'RBR', 33: \"''\", 34: 'RB', 35: 'NNPS', 36: 'WDT', 37: ')', 38: '``', 39: 'VBD', 40: 'VB', 41: 'PDT', 42: 'JJ', 43: 'VBZ'}\n"
     ]
    }
   ],
   "source": [
    "pos2value = dict()\n",
    "for idx, tag in enumerate(unique_pos_tags):\n",
    "    pos2value[idx] = tag\n",
    "\n",
    "print(pos2value)"
   ]
  },
  {
   "cell_type": "code",
   "execution_count": null,
   "id": "0158d051-ba63-4206-a28f-e4539285f739",
   "metadata": {},
   "outputs": [],
   "source": []
  }
 ],
 "metadata": {
  "kernelspec": {
   "display_name": "Python 3 (ipykernel)",
   "language": "python",
   "name": "python3"
  },
  "language_info": {
   "codemirror_mode": {
    "name": "ipython",
    "version": 3
   },
   "file_extension": ".py",
   "mimetype": "text/x-python",
   "name": "python",
   "nbconvert_exporter": "python",
   "pygments_lexer": "ipython3",
   "version": "3.8.10"
  }
 },
 "nbformat": 4,
 "nbformat_minor": 5
}
